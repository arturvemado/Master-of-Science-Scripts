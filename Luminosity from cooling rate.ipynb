{
 "cells": [
  {
   "cell_type": "markdown",
   "metadata": {},
   "source": [
    "## Importing Cooling calculator"
   ]
  },
  {
   "cell_type": "code",
   "execution_count": null,
   "metadata": {},
   "outputs": [],
   "source": [
    "# CHANGE UNIT_DENSITY IN THE CODE BEFORE IMPORTING IT\n",
    "\n",
    "%cd /home/artur/Desktop/Radiative Cooling/Tables_cooling\n",
    "import cooling_table as cool"
   ]
  },
  {
   "cell_type": "markdown",
   "metadata": {},
   "source": [
    "## Opening work directory"
   ]
  },
  {
   "cell_type": "code",
   "execution_count": null,
   "metadata": {},
   "outputs": [],
   "source": [
    "#%cd /home/artur/Desktop/Torus_pn_2D_cooling/Simulations/rho5e-6/\n",
    "#%cd /home/artur/Desktop/Torus_pn_2D_cooling/Simulations/rho1.5e-6/\n",
    "%cd /home/artur/Desktop/Torus_pn_2D_cooling/Simulations/rho1e-6/\n",
    "#%cd /home/artur/Desktop/Torus_pn_2D_cooling/Simulations/rho5e-7/\n",
    "#%cd /home/artur/Desktop/Torus_pn_2D_cooling/Simulations/rho3e-7/\n",
    "#%cd /home/artur/Desktop/Torus_pn_2D_cooling/Simulations/rho5e-8/\n",
    "#%cd /home/artur/Desktop/Torus_pn_2D_cooling/Simulations/rho1e-8/\n",
    "#%cd /home/artur/Desktop/Torus_pn_2D_cooling/Simulations/rho5e-9/"
   ]
  },
  {
   "cell_type": "markdown",
   "metadata": {},
   "source": [
    "## Importing necessary packages"
   ]
  },
  {
   "cell_type": "code",
   "execution_count": null,
   "metadata": {},
   "outputs": [],
   "source": [
    "import mickey.mickey\n",
    "import mickey.plot\n",
    "import tqdm\n",
    "import numpy as np"
   ]
  },
  {
   "cell_type": "markdown",
   "metadata": {},
   "source": [
    "## Useful constants"
   ]
  },
  {
   "cell_type": "code",
   "execution_count": null,
   "metadata": {},
   "outputs": [],
   "source": [
    "#Mass of black hole in solar mass\n",
    "mbh = 10.0\n",
    "\n",
    "#units of sim\n",
    "unit_length = 2.969707e6\n",
    "unit_velocity = 2.1198528e10\n",
    "\n",
    "#MOST IMPORTANT UNIT TO MY WORK\n",
    "unit_density = 1e-6\n",
    "\n",
    "#Eddington luminosity for mbh in cgs\n",
    "Ledd = 1.26e38*mbh\n",
    "\n",
    "#Constants\n",
    "#mu = 0.64494\n",
    "kelvin = 5.405e12\n",
    "beta = 10.0\n",
    "amu = 1.66053886e-24\n",
    "mu_e = 1.142857143\n",
    "mu_i = 1.230769231"
   ]
  },
  {
   "cell_type": "code",
   "execution_count": null,
   "metadata": {},
   "outputs": [],
   "source": [
    "from scipy.special import kn\n",
    "from scipy.optimize import root\n",
    "import numpy as np\n",
    "\n",
    "# Constants to be used in cgs\n",
    "C_sigma = 5.67051e-5#Stephan Boltzmann constant\n",
    "C_kb = 1.3806505e-16#Boltzmann constant\n",
    "C_h = 6.62606876e-27#Planck constant\n",
    "C_me = 9.1093826e-28#Electron mass\n",
    "C_mp = 1.67262171e-24#Proton mass\n",
    "C_amu = 1.66053886e-24#Atomic mass unit\n",
    "C_c = 2.99792458e10#Speed of light\n",
    "C_G = 6.6726e-8#Gravitational constant\n",
    "C_Msun = 2.0e33#Sun mass\n",
    "C_sigmaT = 6.6524e-25#Thomson cross section\n",
    "#C_pi = 3.14159265358979 #PI\n",
    "\n",
    "#Mass of the Black hole\n",
    "C_Mbh = 10. * C_Msun\n",
    "C_GM = C_Mbh * C_G\n",
    "\n",
    "#Schwarzschild Radius\n",
    "Rs = 2. * C_G * C_Mbh / (C_c * C_c)\n",
    "\n",
    "#Adiabatic index\n",
    "C_gamma = 5./3.\n",
    "\n",
    "#Constant of temperature parametrization\n",
    "CONST_1 = C_kb / (C_me * C_c * C_c)\n",
    "\n",
    "#Temperature parametrization\n",
    "def theta_e (Te):\n",
    "    return (CONST_1 * Te)\n",
    "\n",
    "#Disk geometry and polytropic constant\n",
    "rho_0 = 5e-7#Maximum density of initial condition\n",
    "r_0 = 100. * Rs #Radius of maximum density (rho_0)\n",
    "r_min = 75. * Rs #Minimum raius of torus\n",
    "CONST_2 = - C_GM/(r_min-Rs) + C_GM/(2.*r_min*r_min)*(r_0*r_0*r_0)/((r_0-Rs)*(r_0-Rs))\n",
    "kappa = (C_gamma-1.)/C_gamma*pow(rho_0, 1.-C_gamma)*(CONST_2 + C_GM/(r_0-Rs) \n",
    "        - C_GM/2. * r_0/((r_0-Rs)*(r_0-Rs))) #Polytropic constant\n",
    "\n",
    "#Entangled magnetic field (local randomly oriented magnetic field)\n",
    "beta = 10.\n",
    "\n",
    "#Sound speed cs = sqrt(d P/d rho)\n",
    "def sound_speed(ne):\n",
    "    result = C_gamma * kappa * pow(ne * 1.14 * C_amu, C_gamma-1.)\n",
    "    result = np.sqrt(result)\n",
    "    return result\n",
    "\n",
    "#Magnetic field assuming equipartition\n",
    "def B(ne):\n",
    "    result = 8.*np.pi*sound_speed(ne)*sound_speed(ne)*ne*1.14*C_amu/(beta+1.)\n",
    "    result = np.sqrt(result)\n",
    "    return result\n",
    "\n",
    "#Scale Height following the expression cs/omega_K\n",
    "def scale_height(R, ne):\n",
    "    #result = np.sqrt(R/C_GM)*sound_speed(ne)*(R-Rs)\n",
    "    return R\n",
    "\n",
    "#BREEMSTRAHLUNG PART\n",
    "#Electron-ion collision\n",
    "def Fei(Te):\n",
    "    th_e = theta_e(Te)\n",
    "\n",
    "    return np.where(np.asarray(th_e) >= 1.0, 9.*th_e/(2.*np.pi)*(np.log(1.123*th_e+0.48)+1.5), 4.*np.sqrt(2.*th_e/(np.pi**3.))*(1.+1.781*th_e**(1.34)))\n",
    "\n",
    "#Electron-ion colling rate\n",
    "def Qei(ne, Te):\n",
    "    result = 1.48e-22\n",
    "    result *= (ne*ne*Fei(Te))\n",
    "\n",
    "    return result\n",
    "\n",
    "#Electron-Electron collision\n",
    "def Qee(ne, Te):\n",
    "\n",
    "    th_e = theta_e(Te)\n",
    "\n",
    "    return np.where(np.asarray(th_e) <= 1.0, 2.56e-22*(ne*ne*pow(th_e, 1.5))*(1.+1.1*th_e+th_e*th_e-1.25*pow(th_e, 2.5)),\n",
    "            3.4e-22*(ne*ne*th_e)*(np.log(1.123*th_e)+1.28))\n",
    "\n",
    "#Breemstralung cooling rate\n",
    "def Qbrem(ne, Te):\n",
    "    result = Qei(ne, Te) + Qee(ne, Te)\n",
    "    return result\n",
    "\n",
    "\n",
    "#SYNCHROTRON PART\n",
    "#Function for simplicity, using bessel function\n",
    "def BTB(Te, ne):\n",
    "    result = kn(2,1./theta_e(Te)) * theta_e(Te) * theta_e(Te) * theta_e(Te) * B(ne)\n",
    "    result = 1. / result\n",
    "    return result\n",
    "\n",
    "#Transcedental equation for xm\n",
    "def TransEq(x, Te, R, ne):\n",
    "    result = 1./x**(7./6.) + 0.4/x**(17./12.) + 0.5316/x**(5./3.)\n",
    "    result *= 2.49e-10*12*np.pi*ne*scale_height(R, ne)*BTB(Te, ne)\n",
    "    result -= np.exp(1.8899*x**(1./3.))\n",
    "    return result\n",
    "\n",
    "#critical frequency\n",
    "def nu_c(ne, Te, R):\n",
    "    xm = [[root(TransEq, 1.e-3, args=(Te[i][j], R[i][j], ne[i][j])).x[0] for j in range(length)] for i in range(length)]\n",
    "    #print(xm.x)\n",
    "    result = 3. * 2.8e6 * B(ne) * theta_e(Te) * theta_e(Te) * xm/2.\n",
    "    return result\n",
    "\n",
    "#Synchrotron cooling rate\n",
    "def Qsyn(ne, R, Te):\n",
    "    result = nu_c(ne, Te, R)\n",
    "    result = result * result * result\n",
    "    result = 2. * np.pi * C_kb * Te * result\n",
    "    result = result/(3. * C_c * C_c * R)\n",
    "    return result\n",
    "\n",
    "\n",
    "#SYNCHROTRON SELF COMPTON PART\n",
    "#Scattering optical depth\n",
    "def tau_es(R, ne):\n",
    "    result = 2. * ne * C_sigmaT * scale_height(R, ne)\n",
    "    return result\n",
    "\n",
    "#Mean amplification factor in the energy of the scattered photon when scattering electrons \n",
    "#have a Maxwellian velocity distribution of temperature\n",
    "def Amp(Te):\n",
    "    return (1. + 4.*theta_e(Te) + 16.*theta_e(Te)*theta_e(Te))\n",
    "\n",
    "#Energy normalization\n",
    "def enorm(ne, Te, R):\n",
    "    result = C_h * nu_c(ne, Te, R)\n",
    "    result = result/(C_me * C_c * C_c)\n",
    "    return result\n",
    "\n",
    "#Probability of scattering a photon\n",
    "def Prob(R, ne):\n",
    "    return 1. - np.exp(-tau_es(R, ne))\n",
    "\n",
    "#Comptonized energy anhancement factor\n",
    "def eta(ne, R, Te):\n",
    "    eta1 = Prob(R, ne) * (Amp(Te)-1.)\n",
    "    eta1 = eta1 / (1. - Prob(R, ne)*Amp(Te))\n",
    "    eta3 = -1. - np.log(Prob(R, ne))/np.log(Amp(Te))\n",
    "    result = 1. + eta1 - eta1*(enorm(ne, Te, R)/(3.*theta_e(Te)))**(eta3)\n",
    "    return result\n",
    "\n",
    "#Synchrotron self compton cooling rate\n",
    "def Qssc(ne, R, Te):\n",
    "    result = Qsyn(ne, R, Te)*(eta(ne, R, Te) - 1.)\n",
    "    return result\n",
    "\n",
    "#Total cooling rate in optically thin approximation\n",
    "def Q1(ne, R, Te):\n",
    "    result = Qbrem(ne, Te) + Qsyn(ne, R, Te) + Qssc(ne, R, Te)\n",
    "    return result\n",
    "\n",
    "#Absorption optical depth\n",
    "def tau_abs(ne, R, Te):\n",
    "    result = scale_height(R, ne) * Q1(ne, R, Te)\n",
    "    result = result/(4.*C_sigma*Te*Te*Te*Te)\n",
    "    return result\n",
    "\n",
    "#total optical depth in the vertical direction from the disk midplane surface\n",
    "def tau_tot(ne, R, Te):\n",
    "    result = tau_abs(ne, R, Te) + tau_es(R, ne)\n",
    "    return result\n",
    "\n",
    "#Resulting cooling rate for both optically thick and optically thin cooling limits\n",
    "def Qtot(ne, R, Te):\n",
    "    result = 4. * C_sigma * Te * Te * Te * Te / scale_height(R, ne)\n",
    "    result = result / (3.*tau_tot(ne, R, Te)/2. + np.sqrt(3.) + 1./tau_abs(ne, R, Te))\n",
    "    return result"
   ]
  },
  {
   "cell_type": "code",
   "execution_count": null,
   "metadata": {},
   "outputs": [],
   "source": [
    "p = mickey.mickey.Pluto(2400,stdout=False)"
   ]
  },
  {
   "cell_type": "code",
   "execution_count": null,
   "metadata": {},
   "outputs": [],
   "source": [
    "ne = p.rho * unit_density/ (mu_e * amu)"
   ]
  },
  {
   "cell_type": "code",
   "execution_count": null,
   "metadata": {},
   "outputs": [],
   "source": [
    "r = p.X1 * unit_length"
   ]
  },
  {
   "cell_type": "code",
   "execution_count": null,
   "metadata": {},
   "outputs": [],
   "source": [
    "te = beta/(beta + 1.0) * p.p/p.rho * kelvin * mu_e\n",
    "te /= (1.0 + mu_e/mu_i * ((p.X1/100.)**(-1) + 2.0))"
   ]
  },
  {
   "cell_type": "code",
   "execution_count": null,
   "metadata": {},
   "outputs": [],
   "source": [
    "length = len(ne)"
   ]
  },
  {
   "cell_type": "code",
   "execution_count": null,
   "metadata": {},
   "outputs": [],
   "source": [
    "xm = [[root(TransEq, 1.e-3, args=(te[i][j], r[i][j], ne[i][j])).x[0] for j in range(length)] for i in range(length)]\n",
    "#print(nu_c(ne, te, r))\n",
    "#print(np.shape(nu_c(ne, te, r)))"
   ]
  },
  {
   "cell_type": "code",
   "execution_count": null,
   "metadata": {},
   "outputs": [],
   "source": [
    "xm = np.array(xm)"
   ]
  },
  {
   "cell_type": "code",
   "execution_count": null,
   "metadata": {},
   "outputs": [],
   "source": [
    "print(xm)"
   ]
  },
  {
   "cell_type": "code",
   "execution_count": null,
   "metadata": {},
   "outputs": [],
   "source": [
    "%time cooling_rate = np.where(p.tr1 >= 0.99, Qtot(ne, r, te), 0.0)"
   ]
  },
  {
   "cell_type": "markdown",
   "metadata": {},
   "source": [
    "## Calculating cooling rate and luminosity"
   ]
  },
  {
   "cell_type": "code",
   "execution_count": null,
   "metadata": {},
   "outputs": [],
   "source": [
    "def Lum(ne, r, te, dr, theta, dtheta, tr1, length, i):\n",
    "    #luminosity = 0.0\n",
    "    #cooling_rate = np.zeros((400,400), dtype=float)\n",
    "    brem = np.zeros((400,400), dtype=float)\n",
    "    syn = np.zeros((400,400), dtype=float)\n",
    "    ssc = np.zeros((400,400), dtype=float)\n",
    "    \n",
    "    for j in range(length):\n",
    "        if tr1[i][j] > 0.99:\n",
    "            brem[i][j] = cool.Qbrem(ne[i][j], te[i][j])\n",
    "            syn[i][j] = cool.Qsyn(ne[i][j], r[i], te[i][j])\n",
    "            ssc[i][j] = cool.Qssc(ne[i][j], r[i], te[i][j])\n",
    "            #luminosity += cooling_rate[i][j] * r[i] * r[i] * np.sin(theta[j]) * dr[i] * dtheta[j]\n",
    "    return (brem[i], syn[i], ssc[i])"
   ]
  },
  {
   "cell_type": "code",
   "execution_count": null,
   "metadata": {},
   "outputs": [],
   "source": [
    "import multiprocessing as mp\n",
    "nprocs = mp.cpu_count()\n",
    "pool = mp.Pool(processes=nprocs)"
   ]
  },
  {
   "cell_type": "code",
   "execution_count": null,
   "metadata": {},
   "outputs": [],
   "source": [
    "#first snap, last snap, length of array\n",
    "snapi = 2123\n",
    "snapf = 2124\n",
    "length = 400\n",
    "\n",
    "#luminosity = np.zeros((snapf-snapi), dtype=float)\n",
    "\n",
    "for k in tqdm.tqdm(range(snapi, snapf)):\n",
    "    \n",
    "    #cooling_rate = np.zeros((400,400), dtype=float)\n",
    "    #brem = np.zeros((400,400), dtype=float)\n",
    "    #syn = np.zeros((400,400), dtype=float)\n",
    "    #ssc = np.zeros((400,400), dtype=float)\n",
    "    \n",
    "    p = mickey.mickey.Pluto(k,stdout=False)\n",
    "    \n",
    "    #Calculating variables\n",
    "    #distance\n",
    "    r = p.x1 * unit_length\n",
    "\n",
    "    #electronic density\n",
    "    ne = p.rho * unit_density/ (mu_e * amu)\n",
    "\n",
    "    #eletronic temperature\n",
    "    temperature = beta/(beta + 1.0) * p.p/p.rho * kelvin * mu_e\n",
    "    te = []\n",
    "    for j in range(len(temperature)):\n",
    "        te.append(temperature[j]/(1.0 + mu_e/mu_i * ((p.x1[j]/100.)**(-1) + 2.0)))\n",
    "    te = np.array(te)\n",
    "    \n",
    "    #delta r\n",
    "    dr = p.dx1 * unit_length\n",
    "    \n",
    "    #index\n",
    "    l = k-snapi\n",
    "    \n",
    "    #calculating an array to calculate luminosity\n",
    "    cooling_rate = pool.starmap(Lum, [(ne, r, te, dr, p.x2, p.dx2, p.tr1, length, i) for i in range(length)])\n",
    "    \n",
    "    #calculating luminosity for each snapshot\n",
    "    #luminosity[l] = 2.*np.pi*sum(result)/Ledd"
   ]
  },
  {
   "cell_type": "code",
   "execution_count": null,
   "metadata": {},
   "outputs": [],
   "source": [
    "np.savez('luminosity.npz', lum=luminosity)"
   ]
  },
  {
   "cell_type": "code",
   "execution_count": null,
   "metadata": {},
   "outputs": [],
   "source": [
    "data=np.load('luminosity.npz')\n",
    "luminosity=data['lum']"
   ]
  },
  {
   "cell_type": "code",
   "execution_count": null,
   "metadata": {},
   "outputs": [],
   "source": [
    "print(np.median(luminosity), np.std(luminosity))"
   ]
  },
  {
   "cell_type": "code",
   "execution_count": null,
   "metadata": {},
   "outputs": [],
   "source": [
    "%pylab inline"
   ]
  },
  {
   "cell_type": "code",
   "execution_count": null,
   "metadata": {},
   "outputs": [],
   "source": [
    "plt.figure(figsize=(10,10))\n",
    "plt.hist(luminosity, bins=20, density=True)\n",
    "plt.axvline(np.median(luminosity), color='k', linewidth=2)\n",
    "plt.axvline((np.median(luminosity) + np.std(luminosity)), color='r', linestyle='dashed', linewidth=2)\n",
    "plt.axvline((np.median(luminosity) - np.std(luminosity)), color='r', linestyle='dashed', linewidth=2)\n",
    "\n",
    "min_ylim, max_ylim = plt.ylim()\n",
    "plt.text(np.median(luminosity)*1.3, max_ylim*0.9, 'Median: {:.2f}'.format(np.median(luminosity)), fontsize=18)\n",
    "\n",
    "xlabel(\"$L/L_{edd}$\", fontsize=15)\n",
    "ylabel(\"Frequency\", fontsize=15)\n",
    "\n",
    "tick_params(axis='both', which='major', labelsize=13)\n",
    "tick_params(axis='both', which='minor', labelsize=12)\n",
    "\n",
    "tight_layout()\n",
    "\n",
    "plt.show()"
   ]
  },
  {
   "cell_type": "code",
   "execution_count": null,
   "metadata": {},
   "outputs": [],
   "source": [
    "#cooling_rate = np.array(cooling_rate)\n",
    "b = np.array([cooling_rate[i][0] for i in range(400)])\n",
    "syn = np.array([cooling_rate[i][1] for i in range(400)])\n",
    "ssc = np.array([cooling_rate[i][2] for i in range(400)])\n",
    "syntot = syn+ssc\n",
    "tot = b + syntot"
   ]
  },
  {
   "cell_type": "code",
   "execution_count": null,
   "metadata": {},
   "outputs": [],
   "source": [
    "print(np.amin(b/tot))"
   ]
  },
  {
   "cell_type": "code",
   "execution_count": null,
   "metadata": {},
   "outputs": [],
   "source": [
    "plt.figure(figsize=(10,10))\n",
    "\n",
    "pcolormesh(p.X, p.Y, (b/tot).T, vmin=0, vmax=1., cmap='jet')\n",
    "#pcolormesh(p.X, p.Y, log10(ne.T), vmin=log10(np.amin(ne)), vmax=log10(np.amax(ne)), cmap='jet')\n",
    "#pcolormesh(p.X, p.Y, p.tr1.T, vmin=0.1, vmax=1., cmap='jet')\n",
    "xlabel(\"$R/R_{s}$\", fontsize=15)\n",
    "ylabel(\"$Z/R_{s}$\", fontsize=15)\n",
    "plt.title(\"$Q^{-}$ (erg s$^{-1}$ cm$^{-3}$)\", fontsize=16)\n",
    "plt.xlim(0, 100)\n",
    "plt.ylim(-100/2., 100/2.)\n",
    "circle2=Circle((0,0),1.,color='k')\n",
    "gca().add_artist(circle2)\n",
    "colorbar()\n",
    "\n",
    "tick_params(axis='both', which='major', labelsize=13)\n",
    "tick_params(axis='both', which='minor', labelsize=12)\n",
    "\n",
    "tight_layout()\n",
    "\n",
    "plt.show()\n",
    "plt.clf()\n",
    "plt.cla()\n",
    "plt.close('all')"
   ]
  },
  {
   "cell_type": "markdown",
   "metadata": {},
   "source": [
    "## Sanity Check of luminosity"
   ]
  }
 ],
 "metadata": {
  "kernelspec": {
   "display_name": "Python 3",
   "language": "python",
   "name": "python3"
  },
  "language_info": {
   "codemirror_mode": {
    "name": "ipython",
    "version": 3
   },
   "file_extension": ".py",
   "mimetype": "text/x-python",
   "name": "python",
   "nbconvert_exporter": "python",
   "pygments_lexer": "ipython3",
   "version": "3.6.7"
  }
 },
 "nbformat": 4,
 "nbformat_minor": 2
}
