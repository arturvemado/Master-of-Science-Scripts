{
 "cells": [
  {
   "cell_type": "markdown",
   "metadata": {},
   "source": [
    "## Importing necessary packages"
   ]
  },
  {
   "cell_type": "code",
   "execution_count": null,
   "metadata": {},
   "outputs": [],
   "source": [
    "import mickey.mickey\n",
    "import mickey.plot\n",
    "import tqdm\n",
    "import math\n",
    "#from numpy import array\n",
    "import numpy as np"
   ]
  },
  {
   "cell_type": "markdown",
   "metadata": {},
   "source": [
    "## Opening directory of interest"
   ]
  },
  {
   "cell_type": "code",
   "execution_count": null,
   "metadata": {},
   "outputs": [],
   "source": [
    "#%cd /home/artur/Desktop/rho1e-6/\n",
    "#%cd /home/artur/Desktop/Torus_pn_2D_cooling/Simulations/rho5e-6/\n",
    "#%cd /home/artur/Desktop/Torus_pn_2D_cooling/Simulations/rho1.5e-6/\n",
    "%cd /home/artur/Desktop/Torus_pn_2D_cooling/Simulations/rho1e-6/\n",
    "#%cd /home/artur/Desktop/Torus_pn_2D_cooling/Simulations/rho5e-7/\n",
    "#%cd /home/artur/Desktop/Torus_pn_2D_cooling/Simulations/rho3e-7/\n",
    "#%cd /home/artur/Desktop/Torus_pn_2D_cooling/Simulations/rho5e-8/\n",
    "#%cd /home/artur/Desktop/Torus_pn_2D_cooling/Simulations/rho1e-7/\n",
    "#%cd /home/artur/Desktop/Torus_pn_2D_cooling/Simulations/rho5e-9/"
   ]
  },
  {
   "cell_type": "markdown",
   "metadata": {},
   "source": [
    "## Load up the plotting methods"
   ]
  },
  {
   "cell_type": "code",
   "execution_count": null,
   "metadata": {},
   "outputs": [],
   "source": [
    "%pylab inline"
   ]
  },
  {
   "cell_type": "markdown",
   "metadata": {},
   "source": [
    "## Parameters and units needed"
   ]
  },
  {
   "cell_type": "code",
   "execution_count": null,
   "metadata": {},
   "outputs": [],
   "source": [
    "#Mass of black hole in solar mass\n",
    "mbh = 10.0\n",
    "\n",
    "#units of sim\n",
    "unit_length = 2.969707e6\n",
    "unit_velocity = 2.1198528e10\n",
    "\n",
    "#MOST IMPORTANT UNIT TO MY WORK\n",
    "unit_density = 1e-6\n",
    "\n",
    "#Eddington accretion rate for mbh in cgs using efficiency of 0.1\n",
    "eddingtonac = 1.39916e18 * mbh\n",
    "\n",
    "#Conversion of mdot from code units to cgs\n",
    "mdot_conv = unit_length*unit_length*unit_density*unit_velocity\n",
    "\n",
    "#Conversion of time to orbital time in 100Rs\n",
    "torb = 6220.8\n",
    "\n",
    "#Conversion of time to GM/c3\n",
    "tm = 2.828427\n",
    "\n",
    "#Constants\n",
    "mu = 0.64494\n",
    "kelvin = 5.405e12\n",
    "beta = 10.0\n",
    "amu = 1.66053886e-24\n",
    "mu_e = 1.142857143\n",
    "mu_i = 1.230769231"
   ]
  },
  {
   "cell_type": "markdown",
   "metadata": {},
   "source": [
    "## Calculating accretion rate and characteristic times"
   ]
  },
  {
   "cell_type": "code",
   "execution_count": null,
   "metadata": {},
   "outputs": [],
   "source": [
    "# will hold mdot-values at the inner boundary\n",
    "mdot=[]\n",
    "\n",
    "# simulation time in orbits and unit of GM/C3\n",
    "t=[]\n",
    "tgmc3 = []\n",
    "\n",
    "for i in tqdm.tqdm(range(3110)):\n",
    "    # reads data\n",
    "    p=mickey.mickey.Pluto(i, stdout=False)\n",
    "    \n",
    "    mdot.append(p.mdotr(0)*mdot_conv/eddingtonac)\n",
    "    t.append(p.t/torb)\n",
    "    tgmc3.append(p.t*tm)\n",
    "\n",
    "t,mdot,tgmc3=array(t),array(mdot),array(tgmc3)"
   ]
  },
  {
   "cell_type": "markdown",
   "metadata": {},
   "source": [
    "## Plot maps of ne and Te with correnponding accretion rate"
   ]
  },
  {
   "cell_type": "code",
   "execution_count": null,
   "metadata": {},
   "outputs": [],
   "source": [
    "#Range of snapshot in Rs\n",
    "r_range = 100.\n",
    "\n",
    "snap_i = 1741\n",
    "snap_f = 1742\n",
    "\n",
    "for i in tqdm.tqdm(range(snap_i, snap_f)):\n",
    "    \n",
    "    figure(figsize=(10,10))\n",
    "    p=mickey.mickey.Pluto(i,stdout=False)\n",
    "    \n",
    "    '''\n",
    "    #Eletronic Density\n",
    "    #subplot(2,2,1)\n",
    "    #ne = p.rho * unit_density/ (mu_e * amu)\n",
    "    pcolormesh(p.X, p.Y, log10(p.rho.T), vmin=log10(amin(p.rho)), vmax=log10(amax(p.rho)), cmap='afmhot_r')\n",
    "    xlabel(\"$R/R_{s}$\", fontsize=15)\n",
    "    ylabel(\"$Z/R_{s}$\", fontsize=15)\n",
    "    plt.title(r\"$\\rho$ (code units)\", fontsize=16)\n",
    "    plt.xlim(0, r_range)\n",
    "    plt.ylim(-r_range/2., r_range/2.)\n",
    "    circle2=Circle((0,0),1.,color='k')\n",
    "    gca().add_artist(circle2)\n",
    "    colorbar()\n",
    "    \n",
    "    tick_params(axis='both', which='major', labelsize=13)\n",
    "    tick_params(axis='both', which='minor', labelsize=12)\n",
    "    \n",
    "    #Eletronic Temperature\n",
    "    subplot(2,2,2)\n",
    "    temperature = beta/(beta + 1.0) * p.p/p.rho * kelvin * mu_e\n",
    "    t_e = []\n",
    "    for j in range(len(temperature)):\n",
    "        t_e.append(temperature[j]/(1.0 + mu_e/mu_i * ((p.x1[j]/100.)**(-1) + 2.0)))\n",
    "        \n",
    "    t_e = array(t_e)\n",
    "    pcolormesh(p.X, p.Y, log10(t_e.T), vmin=6.2, vmax=12, cmap='hot')\n",
    "    xlabel(\"$R/R_{s}$\", fontsize=15)\n",
    "    ylabel(\"$Z/R_{s}$\", fontsize=15)\n",
    "    plt.title(\"$T_{e}$ (K)\", fontsize=16)\n",
    "    plt.xlim(0, r_range)\n",
    "    plt.ylim(-r_range/2., r_range/2.)\n",
    "    circle2=Circle((0,0),1.,color='k')\n",
    "    gca().add_artist(circle2)\n",
    "    colorbar()\n",
    "    \n",
    "    tick_params(axis='both', which='major', labelsize=13)\n",
    "    tick_params(axis='both', which='minor', labelsize=12)\n",
    "    '''\n",
    "    #Accretion rate at the inner boundary\n",
    "    #subplot(2,1,2)\n",
    "    plot(tgmc3,log10(abs(mdot*eddingtonac/mdot_conv)))\n",
    "    plot(tgmc3[i], log10(abs(mdot[i]*eddingtonac/mdot_conv)), marker='o', color='r', markersize=10)\n",
    "    #xlabel(\"Orbital Period at $100R_s$\", fontsize=15)\n",
    "    xlabel(\"$GM/c^3$\", fontsize=15)\n",
    "    ylabel(\"$\\log ({\\dot{M}_{\\\\rm acc}})$ (code units)\", fontsize=15)\n",
    "    #plt.title(\"$t=%d GM/c^3$\" % (int(tgmc3[i])), fontsize=16)\n",
    "\n",
    "    tick_params(axis='both', which='major', labelsize=13)\n",
    "    tick_params(axis='both', which='minor', labelsize=12)\n",
    "    \n",
    "    tight_layout()\n",
    "    \n",
    "    #plt.show()\n",
    "    plt.savefig('/home/artur/Desktop/Torus_pn_2D_cooling/Simulations/inittorusacc2.png', dpi=300)\n",
    "    plt.clf()\n",
    "    plt.cla()\n",
    "    plt.close('all')"
   ]
  },
  {
   "cell_type": "code",
   "execution_count": null,
   "metadata": {},
   "outputs": [],
   "source": [
    "#Range of snapshot in Rs\n",
    "r_range = 100.\n",
    "\n",
    "snap_i = 1700\n",
    "snap_f = 3110\n",
    "\n",
    "for i in tqdm.tqdm(range(snap_i, snap_f, 3)):\n",
    "    \n",
    "    figure(figsize=(10,10))\n",
    "    p=mickey.mickey.Pluto(i,stdout=False)\n",
    "    \n",
    "\n",
    "    #Eletronic Density\n",
    "    subplot(2,2,1)\n",
    "    ne = p.rho * unit_density/ (mu_e * amu)\n",
    "    pcolormesh(p.X, p.Y, log10(ne.T), vmin=14.0, vmax=20.0, cmap='afmhot_r')\n",
    "    xlabel(\"$R/R_{s}$\", fontsize=15)\n",
    "    ylabel(\"$Z/R_{s}$\", fontsize=15)\n",
    "    plt.title(\"$n_{e}$ (cm$^{-3}$)\", fontsize=16)\n",
    "    plt.xlim(0, r_range)\n",
    "    plt.ylim(-r_range/2., r_range/2.)\n",
    "    circle2=Circle((0,0),1.,color='k')\n",
    "    gca().add_artist(circle2)\n",
    "    colorbar()\n",
    "    \n",
    "    tick_params(axis='both', which='major', labelsize=13)\n",
    "    tick_params(axis='both', which='minor', labelsize=12)\n",
    "\n",
    "    #Eletronic Temperature\n",
    "    subplot(2,2,2)\n",
    "    temperature = beta/(beta + 1.0) * p.p/p.rho * kelvin * mu_e\n",
    "    t_e = []\n",
    "    for j in range(len(temperature)):\n",
    "        t_e.append(temperature[j]/(1.0 + mu_e/mu_i * ((p.x1[j]/100.)**(-1) + 2.0)))\n",
    "        \n",
    "    t_e = array(t_e)\n",
    "    pcolormesh(p.X, p.Y, log10(t_e.T), vmin=6.2, vmax=12, cmap='hot')\n",
    "    xlabel(\"$R/R_{s}$\", fontsize=15)\n",
    "    ylabel(\"$Z/R_{s}$\", fontsize=15)\n",
    "    plt.title(\"$T_{e}$ (K)\", fontsize=16)\n",
    "    plt.xlim(0, r_range)\n",
    "    plt.ylim(-r_range/2., r_range/2.)\n",
    "    circle2=Circle((0,0),1.,color='k')\n",
    "    gca().add_artist(circle2)\n",
    "    colorbar()\n",
    "    \n",
    "    tick_params(axis='both', which='major', labelsize=13)\n",
    "    tick_params(axis='both', which='minor', labelsize=12)\n",
    "    \n",
    "    #Accretion rate at the inner boundary\n",
    "    subplot(2,1,2)\n",
    "    plot(t,log10(abs(mdot)))\n",
    "    plot(t[i], log10(abs(mdot[i])), marker='o', color='r', markersize=10)\n",
    "    xlabel(\"Orbital Period at $100 R_s$\", fontsize=15)\n",
    "    ylabel(\"$\\log ({\\dot{M}_{\\\\rm acc}/\\dot{M}_{\\\\rm Edd}})$\", fontsize=15)\n",
    "    plt.title(\"$t=%d GM/c^3$\" % (int(tgmc3[i])), fontsize=16)\n",
    "\n",
    "    tick_params(axis='both', which='major', labelsize=13)\n",
    "    tick_params(axis='both', which='minor', labelsize=12)\n",
    "\n",
    "    tight_layout()\n",
    "    \n",
    "    #plt.show()\n",
    "    plt.savefig('plot.%04d.png' % (i), dpi=300)\n",
    "    plt.clf()\n",
    "    plt.cla()\n",
    "    plt.close('all')"
   ]
  },
  {
   "cell_type": "markdown",
   "metadata": {},
   "source": [
    "## Making Video"
   ]
  },
  {
   "cell_type": "code",
   "execution_count": null,
   "metadata": {},
   "outputs": [],
   "source": [
    "%%capture\n",
    "!/home/artur/mickey/src/movie.sh png 15 movie"
   ]
  },
  {
   "cell_type": "markdown",
   "metadata": {},
   "source": [
    "## Grid"
   ]
  },
  {
   "cell_type": "code",
   "execution_count": null,
   "metadata": {},
   "outputs": [],
   "source": [
    "p=mickey.mickey.Pluto(1742, stdout=False)\n",
    "figure(figsize=(8,8))\n",
    "mickey.plot.mesh(p)\n",
    "xlim(0,10)\n",
    "ylim(-5,5)\n",
    "#plt.show()\n",
    "plt.savefig('/home/artur/Desktop/Torus_pn_2D_cooling/Simulations/gridzoom.png', dpi=300)\n",
    "plt.clf()\n",
    "plt.cla()\n",
    "plt.close('all')"
   ]
  },
  {
   "cell_type": "markdown",
   "metadata": {},
   "source": [
    "## Plot all simulations"
   ]
  },
  {
   "cell_type": "code",
   "execution_count": null,
   "metadata": {},
   "outputs": [],
   "source": [
    "i=2488\n",
    "%cd /home/artur/Desktop/Torus_pn_2D_cooling/Simulations/rho1.5e-6/\n",
    "p1=mickey.mickey.Pluto(i,stdout=False)\n",
    "%cd /home/artur/Desktop/Torus_pn_2D_cooling/Simulations/rho1e-6/\n",
    "p2=mickey.mickey.Pluto(i,stdout=False)\n",
    "%cd /home/artur/Desktop/Torus_pn_2D_cooling/Simulations/rho5e-7/\n",
    "p3=mickey.mickey.Pluto(i,stdout=False)\n",
    "%cd /home/artur/Desktop/Torus_pn_2D_cooling/Simulations/rho3e-7/\n",
    "p4=mickey.mickey.Pluto(i,stdout=False)\n",
    "%cd /home/artur/Desktop/Torus_pn_2D_cooling/Simulations/rho1e-7/\n",
    "p5=mickey.mickey.Pluto(i+500,stdout=False)"
   ]
  },
  {
   "cell_type": "code",
   "execution_count": null,
   "metadata": {},
   "outputs": [],
   "source": [
    "#temperature\n",
    "mu = 0.64494\n",
    "kelvin = 5.405e12\n",
    "\n",
    "T1 = p1.p/p1.rho*kelvin/mu\n",
    "T2 = p2.p/p2.rho*kelvin/mu\n",
    "T3 = p3.p/p3.rho*kelvin/mu\n",
    "T4 = p4.p/p4.rho*kelvin/mu\n",
    "T5 = p5.p/p5.rho*kelvin/mu"
   ]
  },
  {
   "cell_type": "code",
   "execution_count": null,
   "metadata": {},
   "outputs": [],
   "source": [
    "# unit_density\n",
    "unit_density = array([1.5e-6, 1e-6, 5e-7, 3e-7, 1e-7])"
   ]
  },
  {
   "cell_type": "code",
   "execution_count": null,
   "metadata": {},
   "outputs": [],
   "source": [
    "# density\n",
    "rho1 = p1.rho*unit_density[0]\n",
    "rho2 = p2.rho*unit_density[1]\n",
    "rho3 = p3.rho*unit_density[2]\n",
    "rho4 = p4.rho*unit_density[3]\n",
    "rho5 = p5.rho*unit_density[4]"
   ]
  },
  {
   "cell_type": "code",
   "execution_count": null,
   "metadata": {},
   "outputs": [],
   "source": [
    "from matplotlib.gridspec import GridSpec"
   ]
  },
  {
   "cell_type": "code",
   "execution_count": null,
   "metadata": {},
   "outputs": [],
   "source": [
    "r_range=100.\n",
    "\n",
    "tmin = 7.5\n",
    "tmax = 12.\n",
    "\n",
    "rhomin = -9.5\n",
    "rhomax = -5.\n",
    "\n",
    "figure(figsize=(10,7))\n",
    "grid = plt.GridSpec(2,6)\n",
    "\n",
    "subplot(grid[0, 0:2])\n",
    "#pcolormesh(p1.X, p1.Y, log10(T1.T), vmin=tmin, vmax=tmax, cmap='hot')\n",
    "pcolormesh(p1.X, p1.Y, log10(rho1.T), vmin=rhomin, vmax=rhomax, cmap='hot_r')\n",
    "xlabel(\"$R/R_{s}$\", fontsize=15)\n",
    "ylabel(\"$Z/R_{s}$\", fontsize=15)\n",
    "plt.title(\"(a) ID01\", fontsize=16)\n",
    "plt.xlim(0, r_range)\n",
    "plt.ylim(-r_range/2., r_range/2.)\n",
    "circle2=Circle((0,0),1.,color='k')\n",
    "gca().add_artist(circle2)\n",
    "colorbar()\n",
    "\n",
    "subplot(grid[0, 2:4])\n",
    "#pcolormesh(p2.X, p2.Y, log10(T2.T), vmin=tmin, vmax=tmax, cmap='hot')\n",
    "pcolormesh(p2.X, p2.Y, log10(rho2.T), vmin=rhomin, vmax=rhomax, cmap='hot_r')\n",
    "xlabel(\"$R/R_{s}$\", fontsize=15)\n",
    "ylabel(\"$Z/R_{s}$\", fontsize=15)\n",
    "plt.title(\"(b)  ID02\", fontsize=16)\n",
    "plt.xlim(0, r_range)\n",
    "plt.ylim(-r_range/2., r_range/2.)\n",
    "circle2=Circle((0,0),1.,color='k')\n",
    "gca().add_artist(circle2)\n",
    "colorbar()\n",
    "\n",
    "subplot(grid[0, 4:6])\n",
    "#pcolormesh(p3.X, p3.Y, log10(T3.T), vmin=tmin, vmax=tmax, cmap='hot')\n",
    "pcolormesh(p3.X, p3.Y, log10(rho3.T), vmin=rhomin, vmax=rhomax, cmap='hot_r')\n",
    "xlabel(\"$R/R_{s}$\", fontsize=15)\n",
    "ylabel(\"$Z/R_{s}$\", fontsize=15)\n",
    "plt.title(\"(c)  ID03\", fontsize=16)\n",
    "plt.xlim(0, r_range)\n",
    "plt.ylim(-r_range/2., r_range/2.)\n",
    "circle2=Circle((0,0),1.,color='k')\n",
    "gca().add_artist(circle2)\n",
    "colorbar()\n",
    "\n",
    "subplot(grid[1, 1:3])\n",
    "#pcolormesh(p4.X, p4.Y, log10(T4.T), vmin=tmin, vmax=tmax, cmap='hot')\n",
    "pcolormesh(p4.X, p4.Y, log10(rho4.T), vmin=rhomin, vmax=rhomax, cmap='hot_r')\n",
    "xlabel(\"$R/R_{s}$\", fontsize=15)\n",
    "ylabel(\"$Z/R_{s}$\", fontsize=15)\n",
    "plt.title(\"(d) ID04\", fontsize=16)\n",
    "plt.xlim(0, r_range)\n",
    "plt.ylim(-r_range/2., r_range/2.)\n",
    "circle2=Circle((0,0),1.,color='k')\n",
    "gca().add_artist(circle2)\n",
    "colorbar()\n",
    "\n",
    "subplot(grid[1, 3:5])\n",
    "#pcolormesh(p5.X, p5.Y, log10(T5.T), vmin=tmin, vmax=tmax, cmap='hot')\n",
    "pcolormesh(p5.X, p5.Y, log10(rho5.T), vmin=rhomin, vmax=rhomax, cmap='hot_r')\n",
    "xlabel(\"$R/R_{s}$\", fontsize=15)\n",
    "ylabel(\"$Z/R_{s}$\", fontsize=15)\n",
    "plt.title(\"(e)  ID05\", fontsize=16)\n",
    "plt.xlim(0, r_range)\n",
    "plt.ylim(-r_range/2., r_range/2.)\n",
    "circle2=Circle((0,0),1.,color='k')\n",
    "gca().add_artist(circle2)\n",
    "colorbar()\n",
    "\n",
    "tight_layout()\n",
    "\n",
    "#plt.show()\n",
    "plt.savefig('/home/artur/Desktop/Torus_pn_2D_cooling/Simulations/density-plot-all-sims-%04d.png' % (i), dpi=300)\n",
    "plt.clf()\n",
    "plt.cla()\n",
    "plt.close('all')"
   ]
  },
  {
   "cell_type": "markdown",
   "metadata": {},
   "source": [
    "## Averaging data in time"
   ]
  },
  {
   "cell_type": "code",
   "execution_count": null,
   "metadata": {},
   "outputs": [],
   "source": [
    "# 0.2torb\n",
    "#snap_i = 1990 #1.6torb\n",
    "#snap_f = 2240 #1.8torb\n",
    "\n",
    "#te-tion\n",
    "snap_i = 1700 #1.6torb\n",
    "snap_f = 1740 #1.8torb"
   ]
  },
  {
   "cell_type": "code",
   "execution_count": null,
   "metadata": {},
   "outputs": [],
   "source": [
    "%cd /home/artur/Desktop/Torus_pn_2D_cooling/Simulations/rho1.5e-6/\n",
    "p1=mickey.mickey.Pluto(snap_i, stdout=False)\n",
    "%cd /home/artur/Desktop/Torus_pn_2D_cooling/Simulations/rho1e-7/\n",
    "p2=mickey.mickey.Pluto(snap_i, stdout=False)"
   ]
  },
  {
   "cell_type": "code",
   "execution_count": null,
   "metadata": {},
   "outputs": [],
   "source": [
    "light_speed = 29979245800"
   ]
  },
  {
   "cell_type": "code",
   "execution_count": null,
   "metadata": {},
   "outputs": [],
   "source": [
    "varavg1 = p1.p/p1.rho*kelvin*mu\n",
    "varavg1 = log10(varavg1)\n",
    "\n",
    "varavg2 = p2.p/p2.rho*kelvin*mu\n",
    "varavg2 = log10(varavg2)"
   ]
  },
  {
   "cell_type": "code",
   "execution_count": null,
   "metadata": {},
   "outputs": [],
   "source": [
    "%cd /home/artur/Desktop/Torus_pn_2D_cooling/Simulations/rho1e-7/\n",
    "for i in tqdm.tqdm(range(snap_i+1,snap_f)):\n",
    "    # reads data\n",
    "    p2=mickey.mickey.Pluto(i,stdout=False)\n",
    "    \n",
    "    # sum of arrays to be averaged in log10\n",
    "    varavg2 = np.add(varavg2, log10(p2.p/p2.rho*kelvin*mu))\n",
    "    #rhos = np.add(rhos, c.rho*3e-7)\n",
    "    #del p"
   ]
  },
  {
   "cell_type": "code",
   "execution_count": null,
   "metadata": {},
   "outputs": [],
   "source": [
    "def find_idx(array, value):\n",
    "    idx = (np.abs(array - value)).argmin()\n",
    "    return idx"
   ]
  },
  {
   "cell_type": "code",
   "execution_count": null,
   "metadata": {},
   "outputs": [],
   "source": [
    "idx1 = find_idx(p1.x2, 89.9*np.pi/180)\n",
    "idx2 = find_idx(p1.x2, 90.1*np.pi/180)"
   ]
  },
  {
   "cell_type": "code",
   "execution_count": null,
   "metadata": {},
   "outputs": [],
   "source": [
    "varavg1 /= (snap_f - snap_i)\n",
    "varavg2 /= (snap_f - snap_i) "
   ]
  },
  {
   "cell_type": "code",
   "execution_count": null,
   "metadata": {},
   "outputs": [],
   "source": [
    "var1_th=mean(varavg1.T[idx1:idx2,:],axis=0)\n",
    "var2_th=mean(varavg2.T[idx1:idx2,:],axis=0)"
   ]
  },
  {
   "cell_type": "code",
   "execution_count": null,
   "metadata": {},
   "outputs": [],
   "source": [
    "r_range = 100.\n",
    "\n",
    "#pcolormesh(c.X1, c.X2, log10(c.rho), vmin=amin(log10(c.rho)), vmax=amax(log10(c.rho)), cmap='jet_r')\n",
    "#pcolormesh(c.X1, c.X2, rhoavg, vmin=amin(rhoavg), vmax=amax(rhoavg), cmap='hot_r')\n",
    "pcolormesh(p1.X, p1.Y, varavg2.T, vmin=amin(varavg2), vmax=amax(varavg2), cmap='hot')\n",
    "axes().set_aspect('equal')\n",
    "title(\"$<\\\\rho>$\")\n",
    "circle2=Circle((0,0),1,color='k')\n",
    "gca().add_artist(circle2)\n",
    "xlim(0,r_range)\n",
    "ylim(-r_range/2.,r_range/2.)\n",
    "colorbar()\n",
    "#plt.savefig(\"03-averaged density.png\")\n",
    "plt.show()\n",
    "\n",
    "plt.clf()\n",
    "plt.cla()\n",
    "plt.close('all')"
   ]
  },
  {
   "cell_type": "code",
   "execution_count": null,
   "metadata": {},
   "outputs": [],
   "source": [
    "from scipy import stats\n",
    "\n",
    "#end of the region of interest\n",
    "i = find_idx(p1.x1, 10)\n",
    "j = find_idx(p1.x1, 100)\n",
    "\n",
    "i2 = find_idx(p1.x1, 10)\n",
    "j2 = find_idx(p1.x1, 60)\n",
    "\n",
    "slope, intercept, r_value, p_value, std_err = stats.linregress(log10(p1.x1[i:j]), var1_th[i:j])\n",
    "slope2, intercept2, r_value2, p_value2, std_err2 = stats.linregress(log10(p2.x1[i2:j2]), var2_th[i2:j2])"
   ]
  },
  {
   "cell_type": "code",
   "execution_count": null,
   "metadata": {},
   "outputs": [],
   "source": [
    "fit = p1.x1[i:j]**slope*10.**intercept\n",
    "fit2 = p2.x1[i:j]**slope2*10.**intercept2"
   ]
  },
  {
   "cell_type": "code",
   "execution_count": null,
   "metadata": {},
   "outputs": [],
   "source": [
    "dict_vel = zip(p1.x1, var2_th)\n",
    "dict_vel = dict(dict_vel)\n",
    "dict_vel_copy = dict_vel.copy()\n",
    "for key in dict_vel.keys():\n",
    "    if dict_vel[key] > 0:\n",
    "        del dict_vel_copy[key]\n",
    "\n",
    "dict_vel1 = zip(p1.x1, var1_th)\n",
    "dict_vel1 = dict(dict_vel1)\n",
    "dict_vel_copy1 = dict_vel1.copy()\n",
    "for key in dict_vel1.keys():\n",
    "    if dict_vel1[key] > 0:\n",
    "        del dict_vel_copy1[key]"
   ]
  },
  {
   "cell_type": "code",
   "execution_count": null,
   "metadata": {},
   "outputs": [],
   "source": [
    "x = [k for k in dict_vel.keys()]\n",
    "v = [k for k in dict_vel.values()]\n",
    "\n",
    "x1 = [k for k in dict_vel1.keys()]\n",
    "v1 = [k for k in dict_vel1.values()]"
   ]
  },
  {
   "cell_type": "code",
   "execution_count": null,
   "metadata": {},
   "outputs": [],
   "source": [
    "x, x1, v, v1 = np.array(x), np.array(x1), np.array(v), np.array(v1)"
   ]
  },
  {
   "cell_type": "code",
   "execution_count": null,
   "metadata": {},
   "outputs": [],
   "source": [
    "Te = var2_th.copy()\n",
    "Te = 10**Te\n",
    "Te = Te/(100./p2.x1 + 2.)\n",
    "Te = log10(Te)"
   ]
  },
  {
   "cell_type": "code",
   "execution_count": null,
   "metadata": {},
   "outputs": [],
   "source": [
    "#plot(c.X1[1499][10:], (rhoavg[1499][10:]+rhoavg[1500][10:])/2.)\n",
    "#plot(p1.x1, log10(10**var1_th), \"-.\", label=\"ID1\")\n",
    "plot(p2.x1, var2_th, label=r\"$T_{\\mathrm{ion}}$\")\n",
    "plot(p2.x1, Te, \"--\", label=r\"$T_{\\mathrm{e}}$\")\n",
    "#plot(p1.x1, np.zeros(len(p1.x1)), \":g\", label=\"Keplerian velocity\")\n",
    "#plot(p1.x1[i:j], log10(fit),'--r', label=r'$T_{\\mathrm{thin}} \\propto r^{%.2f \\pm %.2f}$' % (slope,std_err))\n",
    "#plot(p2.x1[i:j], log10(fit2),':', label=r'$T_{\\mathrm{ADAF}} \\propto r^{%.2f \\pm %.2f}$' % (slope2,std_err2))\n",
    "#title(r'$\\rho \\propto r^{%.2f \\pm %.2f}$' % (slope,std_err), fontsize=20)\n",
    "#plot(p.x1[:300], tion_th[:300])\n",
    "xlabel(\"$R/R_{s}$\", fontsize=15)\n",
    "ylabel(r\"$\\log(T/\\mathrm{K})$\", fontsize=15)\n",
    "xscale('log')\n",
    "#yscale('log')\n",
    "plt.xlim(0, 100.)\n",
    "plt.ylim(8.5, 12)\n",
    "plt.legend(fontsize=13)\n",
    "\n",
    "tick_params(axis='both', which='major', labelsize=13)\n",
    "tick_params(axis='both', which='minor', labelsize=12)\n",
    "tight_layout()\n",
    "\n",
    "plt.savefig('/home/artur/Desktop/Torus_pn_2D_cooling/Simulations/te-tion-example.png', dpi=300)\n",
    "plt.clf()\n",
    "plt.cla()\n",
    "plt.close('all')\n",
    "\n",
    "#plt.show()"
   ]
  },
  {
   "cell_type": "code",
   "execution_count": null,
   "metadata": {},
   "outputs": [],
   "source": [
    "v_kep = sqrt(p1.x1)/(p1.x1 - 1)"
   ]
  },
  {
   "cell_type": "markdown",
   "metadata": {},
   "source": [
    "## Accretion rates"
   ]
  },
  {
   "cell_type": "code",
   "execution_count": null,
   "metadata": {},
   "outputs": [],
   "source": [
    "snapi=1866 #1.5torb\n",
    "snapf=2989 #2.4torb"
   ]
  },
  {
   "cell_type": "code",
   "execution_count": null,
   "metadata": {},
   "outputs": [],
   "source": [
    "#Mass of black hole in solar mass\n",
    "mbh = 10.0\n",
    "\n",
    "#units of sim\n",
    "unit_length = 2.969707e6\n",
    "unit_velocity = 2.1198528e10\n",
    "\n",
    "#MOST IMPORTANT UNIT TO MY WORK\n",
    "unit_density1 = 1.5e-6\n",
    "mdot_conv1 = unit_length*unit_length*unit_density1*unit_velocity\n",
    "\n",
    "unit_density2 = 1e-6\n",
    "mdot_conv2 = unit_length*unit_length*unit_density2*unit_velocity\n",
    "\n",
    "unit_density3 = 5e-7\n",
    "mdot_conv3 = unit_length*unit_length*unit_density3*unit_velocity\n",
    "\n",
    "unit_density4 = 3e-7\n",
    "mdot_conv4 = unit_length*unit_length*unit_density4*unit_velocity\n",
    "\n",
    "unit_density5 = 1e-7\n",
    "mdot_conv5 = unit_length*unit_length*unit_density5*unit_velocity\n",
    "\n",
    "#Eddington accretion rate for mbh in cgs using efficiency of 0.1\n",
    "eddingtonac = 1.39916e18 * mbh\n",
    "\n",
    "#Conversion of time to orbital time in 100Rs\n",
    "torb = 6220.8\n",
    "\n",
    "#Conversion of time to GM/c3\n",
    "tm = 2.828427"
   ]
  },
  {
   "cell_type": "code",
   "execution_count": null,
   "metadata": {},
   "outputs": [],
   "source": [
    "my_dir = [\"/home/artur/Desktop/Torus_pn_2D_cooling/Simulations/rho1.5e-6/\",\n",
    "         \"/home/artur/Desktop/Torus_pn_2D_cooling/Simulations/rho1e-6/\",\n",
    "         \"/home/artur/Desktop/Torus_pn_2D_cooling/Simulations/rho5e-7/\",\n",
    "         \"/home/artur/Desktop/Torus_pn_2D_cooling/Simulations/rho3e-7/\",\n",
    "         \"/home/artur/Desktop/Torus_pn_2D_cooling/Simulations/rho1e-7/\"]"
   ]
  },
  {
   "cell_type": "code",
   "execution_count": null,
   "metadata": {
    "scrolled": true
   },
   "outputs": [],
   "source": [
    "# will hold mdot-values at the inner boundary\n",
    "mdot = []\n",
    "mdot_conv=[mdot_conv1,\n",
    "          mdot_conv2,\n",
    "          mdot_conv3,\n",
    "          mdot_conv4,\n",
    "          mdot_conv5]\n",
    "\n",
    "# simulation time in orbits and unit of GM/C3\n",
    "t=[]\n",
    "tgmc3 = []\n",
    "for k in tqdm.tqdm(range(5)):\n",
    "    %cd {my_dir[k]}\n",
    "    aux = []\n",
    "    for i in range(snapi,snapf):\n",
    "        # reads data\n",
    "        p=mickey.mickey.Pluto(i, stdout=False)\n",
    "\n",
    "        aux.append(p.mdotr(0)*mdot_conv[k]/eddingtonac)\n",
    "        \n",
    "        if k == 0:\n",
    "            t.append(p.t/torb)\n",
    "            tgmc3.append(p.t*tm)\n",
    "    \n",
    "    mdot.append(aux)\n",
    "\n",
    "t,mdot,tgmc3=array(t),array(mdot),array(tgmc3)"
   ]
  },
  {
   "cell_type": "code",
   "execution_count": null,
   "metadata": {},
   "outputs": [],
   "source": [
    "print(median(abs(mdot[0])))"
   ]
  },
  {
   "cell_type": "code",
   "execution_count": null,
   "metadata": {},
   "outputs": [],
   "source": [
    "for i in range(5):\n",
    "    plot(tgmc3,log10(abs(mdot[i])),label=\"ID%d\" % (i+1))\n",
    "plot(np.ones(2)*1.95*17506, [-1.8,0], \":k\")\n",
    "plot(np.ones(2)*2.23*17506, [-1.8,0], \":k\")\n",
    "plot(np.ones(2)*2.12*17506, [-1.8,0], \"--k\")\n",
    "plot(np.ones(2)*2.40*17506, [-1.8,0], \"--k\")\n",
    "#xlabel(\"Orbital Period at $100 R_s$\", fontsize=15)\n",
    "xlabel(\"$GM/c^3$\", fontsize=15)\n",
    "ylabel(\"$\\log ({\\dot{M}_{\\\\rm acc}/\\dot{M}_{\\\\rm Edd}})$\", fontsize=15)\n",
    "#plt.title(\"$t=%d GM/c^3$\" % (int(tgmc3[i])), fontsize=16)\n",
    "\n",
    "tick_params(axis='both', which='major', labelsize=13)\n",
    "tick_params(axis='both', which='minor', labelsize=12)\n",
    "plt.legend(loc='lower left',fontsize=13)\n",
    "#plt.xlim(0, 100.)\n",
    "plt.ylim(-1.8, 0)\n",
    "tight_layout()\n",
    "\n",
    "#plt.show()\n",
    "plt.savefig('/home/artur/Desktop/Torus_pn_2D_cooling/Simulations/accretion_rates_2.png', dpi=300)\n",
    "plt.clf()\n",
    "plt.cla()\n",
    "plt.close('all')"
   ]
  },
  {
   "cell_type": "code",
   "execution_count": null,
   "metadata": {},
   "outputs": [],
   "source": []
  }
 ],
 "metadata": {
  "kernelspec": {
   "display_name": "Python 3",
   "language": "python",
   "name": "python3"
  },
  "language_info": {
   "codemirror_mode": {
    "name": "ipython",
    "version": 3
   },
   "file_extension": ".py",
   "mimetype": "text/x-python",
   "name": "python",
   "nbconvert_exporter": "python",
   "pygments_lexer": "ipython3",
   "version": "3.6.7"
  }
 },
 "nbformat": 4,
 "nbformat_minor": 2
}
