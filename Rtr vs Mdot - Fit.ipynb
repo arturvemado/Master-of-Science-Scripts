{
 "cells": [
  {
   "cell_type": "markdown",
   "metadata": {},
   "source": [
    "## Imports"
   ]
  },
  {
   "cell_type": "code",
   "execution_count": 17,
   "metadata": {},
   "outputs": [
    {
     "name": "stdout",
     "output_type": "stream",
     "text": [
      "Populating the interactive namespace from numpy and matplotlib\n"
     ]
    },
    {
     "name": "stderr",
     "output_type": "stream",
     "text": [
      "/home/artur/anaconda3/lib/python3.6/site-packages/IPython/core/magics/pylab.py:160: UserWarning: pylab import has clobbered these variables: ['exponential']\n",
      "`%matplotlib` prevents importing * from pylab and numpy\n",
      "  \"\\n`%matplotlib` prevents importing * from pylab and numpy\"\n"
     ]
    }
   ],
   "source": [
    "import matplotlib.pyplot as plt\n",
    "from scipy.odr import *\n",
    "import numpy as np\n",
    "%pylab inline"
   ]
  },
  {
   "cell_type": "markdown",
   "metadata": {},
   "source": [
    "## Opening directory"
   ]
  },
  {
   "cell_type": "code",
   "execution_count": null,
   "metadata": {},
   "outputs": [],
   "source": [
    "%cd /home/artur/Desktop/Torus_pn_2D_cooling/Simulations/"
   ]
  },
  {
   "cell_type": "markdown",
   "metadata": {},
   "source": [
    "## Fitting power law to Rtr vs. Mdot"
   ]
  },
  {
   "cell_type": "code",
   "execution_count": 35,
   "metadata": {},
   "outputs": [],
   "source": [
    "rtr = [11.2, 13.2, 20.3, 27.5]\n",
    "rtr_err = [2.5, 2.7, 5.5, 5.8]\n",
    "mdot = [0.35, 0.24, 0.11, 0.06]\n",
    "mdot_err = [0.09, 0.07, 0.02, 0.01]\n",
    "luminosity = [0.82, 0.51, 0.22, 0.08]\n",
    "luminosity_err = [0.08, 0.04, 0.01, 0.01]\n",
    "Lanal = [11.4, 5.2, 1.3, 0.3]\n",
    "Lssanal = [0.07, 0.04, 0.01, 0.004]"
   ]
  },
  {
   "cell_type": "code",
   "execution_count": 21,
   "metadata": {},
   "outputs": [],
   "source": [
    "def Powerlaw(a, x):\n",
    "    return (a[0] * x**a[1])"
   ]
  },
  {
   "cell_type": "code",
   "execution_count": null,
   "metadata": {},
   "outputs": [],
   "source": [
    "PL_model = Model(Powerlaw)\n",
    "\n",
    "data = RealData(luminosity, rtr, sx=luminosity_err, sy=rtr_err)\n",
    "\n",
    "myodr = ODR(data, PL_model, beta0=[3., -0.5])\n",
    "\n",
    "myoutput = myodr.run()\n",
    "\n",
    "myoutput.pprint()\n",
    "\n",
    "#myoutput.beta = best values of parameters\n",
    "#myoutput.sd_beta = standard deviation of parameters"
   ]
  },
  {
   "cell_type": "code",
   "execution_count": null,
   "metadata": {},
   "outputs": [],
   "source": [
    "plt.figure(figsize=(8,6))\n",
    "\n",
    "plt.errorbar(x=luminosity, y=rtr, yerr=rtr_err, xerr=luminosity_err,\n",
    "             fmt='bo',\n",
    "             capsize=3)\n",
    "\n",
    "xfit = np.linspace(0.05, 1.0, num=100)\n",
    "yfit = Powerlaw(myoutput.beta, xfit)\n",
    "#plusyfit = Powerlaw(myoutput.beta + myoutput.sd_beta, xfit)\n",
    "#minusyfit = Powerlaw(myoutput.beta - myoutput.sd_beta, xfit)\n",
    "\n",
    "plt.plot(xfit, yfit, '--r', \n",
    "         label = '$a = %0.2f \\pm %0.2f$\\n$b = %0.2f \\pm %0.2f$' %\n",
    "         (myoutput.beta[0], myoutput.sd_beta[0], myoutput.beta[1], myoutput.sd_beta[1]))\n",
    "\n",
    "#plt.fill_between(xfit, minusyfit, plusyfit,\n",
    "#                 color='r', alpha=0.1)\n",
    "\n",
    "#plt.title(\"$Rtr = a(\\dot{M}/\\dot{M}_{\\\\rm Edd})^{b}$\", fontsize=16)\n",
    "plt.title(\"$Rtr = a(L/L_{\\\\rm Edd})^{b}$\", fontsize=16)\n",
    "\n",
    "plt.xlabel(\"$L/L_{\\\\rm Edd}$\", fontsize=15)\n",
    "#plt.xlabel(\"$\\dot{M}/\\dot{M}_{\\\\rm Edd}$\", fontsize=15)\n",
    "plt.ylabel(\"$R_{\\\\rm tr}/R_s$\", fontsize=15)\n",
    "\n",
    "plt.legend(fontsize=13)\n",
    "#plt.xscale('log')\n",
    "#plt.yscale('log')\n",
    "\n",
    "plt.tick_params(axis='both', which='major', labelsize=13)\n",
    "plt.tick_params(axis='both', which='minor', labelsize=12)\n",
    "plt.tight_layout()\n",
    "\n",
    "plt.savefig('rtr_vs_L.png', dpi=300)\n",
    "plt.clf()\n",
    "plt.close('all')"
   ]
  },
  {
   "cell_type": "markdown",
   "metadata": {},
   "source": [
    "## Sanity check of luminosity"
   ]
  },
  {
   "cell_type": "code",
   "execution_count": null,
   "metadata": {},
   "outputs": [],
   "source": [
    "import numpy as np\n",
    "import mickey.mickey\n",
    "import mickey.plot\n",
    "import tqdm"
   ]
  },
  {
   "cell_type": "code",
   "execution_count": null,
   "metadata": {},
   "outputs": [],
   "source": [
    "#%cd /home/artur/Desktop/Torus_pn_2D_cooling/Simulations/rho5e-6/\n",
    "#%cd /home/artur/Desktop/Torus_pn_2D_cooling/Simulations/rho1.5e-6/\n",
    "#%cd /home/artur/Desktop/Torus_pn_2D_cooling/Simulations/rho1e-6/\n",
    "#%cd /home/artur/Desktop/Torus_pn_2D_cooling/Simulations/rho5e-7/\n",
    "%cd /home/artur/Desktop/Torus_pn_2D_cooling/Simulations/rho3e-7/\n",
    "#%cd /home/artur/Desktop/Torus_pn_2D_cooling/Simulations/rho5e-8/\n",
    "#%cd /home/artur/Desktop/Torus_pn_2D_cooling/Simulations/rho1e-8/\n",
    "#%cd /home/artur/Desktop/Torus_pn_2D_cooling/Simulations/rho5e-9/"
   ]
  },
  {
   "cell_type": "code",
   "execution_count": null,
   "metadata": {},
   "outputs": [],
   "source": [
    "#Mass of black hole in solar mass\n",
    "mbh = 10.0\n",
    "\n",
    "Ledd = 1.26e38 * mbh\n",
    "Medd = 1.39916e18 * mbh\n",
    "\n",
    "#units of sim\n",
    "unit_length = 2.969707e6\n",
    "unit_velocity = 2.1198528e10\n",
    "#MOST IMPORTANT UNIT TO MY WORK\n",
    "unit_density = 3e-7\n",
    "\n",
    "c = unit_velocity * np.sqrt(2.)\n",
    "\n",
    "#Conversion of mdot from code units to cgs\n",
    "mdot_conv = unit_length*unit_length*unit_density*unit_velocity"
   ]
  },
  {
   "cell_type": "code",
   "execution_count": 2,
   "metadata": {},
   "outputs": [],
   "source": [
    "def C(x):\n",
    "    return (3./x - 2.* x**(-1.5))"
   ]
  },
  {
   "cell_type": "code",
   "execution_count": 64,
   "metadata": {},
   "outputs": [],
   "source": [
    "def eta(x):\n",
    "    return (1./(4.*x)*(1 - C(2000./x)))"
   ]
  },
  {
   "cell_type": "code",
   "execution_count": null,
   "metadata": {},
   "outputs": [],
   "source": [
    "data = np.load('data.npz')\n",
    "#print (data['arr_0'])\n",
    "mdot_ss = data['arr_0']*Medd\n",
    "Rtr = data['arr_1']"
   ]
  },
  {
   "cell_type": "code",
   "execution_count": null,
   "metadata": {},
   "outputs": [],
   "source": [
    "# will hold mdot-values at the inner boundary\n",
    "mdot_riaf=[]\n",
    "mdot_ss=[]\n",
    "\n",
    "isnap = 2123 #2634\n",
    "fsnap = 2478 #2989\n",
    "\n",
    "for i in tqdm.tqdm(range(isnap, fsnap)):\n",
    "    # reads data\n",
    "    p=mickey.mickey.Pluto(i, stdout=False)\n",
    "    \n",
    "    mdot_riaf.append(p.mdotr(3.))\n",
    "    mdot_ss.append(p.mdotr(Rtr[i-isnap]))"
   ]
  },
  {
   "cell_type": "code",
   "execution_count": null,
   "metadata": {},
   "outputs": [],
   "source": [
    "mdot_ss = np.array(mdot_ss)\n",
    "mdot_ss *= mdot_conv\n",
    "\n",
    "mdot_riaf = np.array(mdot_riaf)\n",
    "mdot_riaf *= mdot_conv"
   ]
  },
  {
   "cell_type": "code",
   "execution_count": null,
   "metadata": {},
   "outputs": [],
   "source": [
    "mdot_ss = abs(mdot_ss)\n",
    "mdot_riaf = abs(mdot_riaf)"
   ]
  },
  {
   "cell_type": "code",
   "execution_count": null,
   "metadata": {},
   "outputs": [],
   "source": [
    "# Riaf Luminosity\n",
    "Lriaf = 10 * mdot_riaf * mdot_riaf * c * c / Medd"
   ]
  },
  {
   "cell_type": "code",
   "execution_count": null,
   "metadata": {},
   "outputs": [],
   "source": [
    "# Thin disc luminosity\n",
    "Lss = eta(Rtr) * mdot_ss * c * c"
   ]
  },
  {
   "cell_type": "code",
   "execution_count": null,
   "metadata": {},
   "outputs": [],
   "source": [
    "L = (np.median(Lss))/Ledd"
   ]
  },
  {
   "cell_type": "code",
   "execution_count": null,
   "metadata": {},
   "outputs": [],
   "source": [
    "print(L)"
   ]
  },
  {
   "cell_type": "code",
   "execution_count": 4,
   "metadata": {},
   "outputs": [],
   "source": [
    "def mass_accretion_rate_Reb2018(luminosity, truncation_radius):\n",
    "    mbh = 10.0\n",
    "    Ledd = 1.26e38 * mbh\n",
    "    Medd = 1.39916e18 * mbh\n",
    "    light_speed_squared = 2.99792458e10 * 2.99792458e10\n",
    "    \n",
    "    return (luminosity/eta(2*truncation_radius)/light_speed_squared * Ledd/Medd)"
   ]
  },
  {
   "cell_type": "code",
   "execution_count": 65,
   "metadata": {},
   "outputs": [],
   "source": [
    "garcia_luminosity = np.array([0.016, 0.039, 0.079, 0.119, 0.142, 0.173])\n",
    "garcia_rtr = np.array([3.7, 2.7, 2.1, 1.8, 1.5, 1.7])*1.237\n",
    "garcia_rtr_err = np.array([[1.0, 1.5, 0.5, 0.2, 0.2, 0.3],[0.7, 0.5, 0.3, 0.1, 0.4, 0.2]])*1.237"
   ]
  },
  {
   "cell_type": "code",
   "execution_count": 66,
   "metadata": {},
   "outputs": [],
   "source": [
    "garcia_mdot = mass_accretion_rate_Reb2018(garcia_luminosity, garcia_rtr)"
   ]
  },
  {
   "cell_type": "code",
   "execution_count": 67,
   "metadata": {},
   "outputs": [
    {
     "name": "stdout",
     "output_type": "stream",
     "text": [
      "[0.05948056 0.10542751 0.16574854 0.21377641 0.21235158 0.29341391]\n"
     ]
    }
   ],
   "source": [
    "print(garcia_mdot)"
   ]
  },
  {
   "cell_type": "code",
   "execution_count": 68,
   "metadata": {},
   "outputs": [
    {
     "name": "stdout",
     "output_type": "stream",
     "text": [
      "Beta: [ 0.70613214 -0.728428  ]\n",
      "Beta Std Error: [0.29344271 0.2609153 ]\n",
      "Beta Covariance: [[42.04073648 36.81646255]\n",
      " [36.81646255 33.23707241]]\n",
      "Residual Variance: 0.0020482187019414764\n",
      "Inverse Condition #: 0.0856455815951856\n",
      "Reason(s) for Halting:\n",
      "  Sum of squares convergence\n"
     ]
    }
   ],
   "source": [
    "PL_model = Model(Powerlaw)\n",
    "\n",
    "data = RealData(garcia_mdot, garcia_rtr, sy=garcia_rtr_err[1])\n",
    "\n",
    "myodr = ODR(data, PL_model, beta0=[3., -0.5])\n",
    "\n",
    "myoutput = myodr.run()\n",
    "\n",
    "myoutput.pprint()\n",
    "\n",
    "#myoutput.beta = best values of parameters\n",
    "#myoutput.sd_beta = standard deviation of parameters"
   ]
  },
  {
   "cell_type": "code",
   "execution_count": 37,
   "metadata": {},
   "outputs": [
    {
     "name": "stdout",
     "output_type": "stream",
     "text": [
      "Beta: [ 6.42568747 -0.51702729]\n",
      "Beta Std Error: [0.15319595 0.01163271]\n",
      "Beta Covariance: [[5.54190241 0.39458356]\n",
      " [0.39458356 0.03195409]]\n",
      "Residual Variance: 0.004234827307511398\n",
      "Inverse Condition #: 0.025228125338655587\n",
      "Reason(s) for Halting:\n",
      "  Sum of squares convergence\n"
     ]
    }
   ],
   "source": [
    "PL_model2 = Model(Powerlaw)\n",
    "\n",
    "data2 = RealData(mdot, rtr, sx=mdot_err, sy=rtr_err)\n",
    "\n",
    "myodr2 = ODR(data2, PL_model2, beta0=[3., -0.5])\n",
    "\n",
    "myoutput2 = myodr2.run()\n",
    "\n",
    "myoutput2.pprint()\n",
    "\n",
    "#myoutput.beta = best values of parameters\n",
    "#myoutput.sd_beta = standard deviation of parameters"
   ]
  },
  {
   "cell_type": "code",
   "execution_count": 63,
   "metadata": {},
   "outputs": [],
   "source": [
    "figure(figsize=(8,5))\n",
    "plt.errorbar(garcia_mdot, garcia_rtr, garcia_rtr_err, np.zeros(len(garcia_mdot)), fmt='bo', capsize=3)\n",
    "plt.errorbar(mdot, rtr, rtr_err, mdot_err, fmt='gs', capsize=3)\n",
    "\n",
    "xfit = np.linspace(0.04, 1.0, num=100)\n",
    "yfit = Powerlaw(myoutput.beta, xfit)\n",
    "plt.plot(xfit, yfit, '--r', \n",
    "         label = r'$R_{\\mathrm{tr}} \\propto \\dot{m}^{%0.2f \\pm %0.2f}$' %\n",
    "         (myoutput.beta[1], myoutput.sd_beta[1]))\n",
    "\n",
    "xfit2 = np.linspace(0.04, 1.0, num=100)\n",
    "yfit2 = Powerlaw(myoutput2.beta, xfit)\n",
    "plt.plot(xfit2, yfit2, '-.k', \n",
    "         label = r'$R_{\\mathrm{tr}} \\propto \\dot{m}^{%0.2f \\pm %0.2f}$' %\n",
    "         (myoutput2.beta[1], myoutput2.sd_beta[1]))\n",
    "xlabel(\"$\\dot{M}/\\dot{M}_{\\\\rm Edd}$\", fontsize=15)\n",
    "ylabel(\"$R_{\\mathrm{tr}}/R_{\\mathrm{s}}$\", fontsize=15)\n",
    "xscale(\"log\")\n",
    "yscale(\"log\")\n",
    "ylim(1, 90.)\n",
    "xlim(0.04, 0.5)\n",
    "tick_params(axis='both', which='major', labelsize=13)\n",
    "tick_params(axis='both', which='minor', labelsize=12)\n",
    "\n",
    "plt.legend(fontsize=15)\n",
    "tight_layout()\n",
    "\n",
    "#plt.show()\n",
    "plt.savefig('/home/artur/Desktop/Torus_pn_2D_cooling/Simulations/rtr-mdot-comparison.png', dpi=300)\n",
    "plt.clf()\n",
    "plt.close('all')"
   ]
  },
  {
   "cell_type": "code",
   "execution_count": null,
   "metadata": {},
   "outputs": [],
   "source": []
  }
 ],
 "metadata": {
  "kernelspec": {
   "display_name": "Python 3",
   "language": "python",
   "name": "python3"
  },
  "language_info": {
   "codemirror_mode": {
    "name": "ipython",
    "version": 3
   },
   "file_extension": ".py",
   "mimetype": "text/x-python",
   "name": "python",
   "nbconvert_exporter": "python",
   "pygments_lexer": "ipython3",
   "version": "3.6.7"
  }
 },
 "nbformat": 4,
 "nbformat_minor": 2
}
