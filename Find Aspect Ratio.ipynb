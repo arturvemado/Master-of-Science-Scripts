{
 "cells": [
  {
   "cell_type": "markdown",
   "metadata": {},
   "source": [
    "## Importing necessary packages"
   ]
  },
  {
   "cell_type": "code",
   "execution_count": null,
   "metadata": {},
   "outputs": [],
   "source": [
    "import mickey\n",
    "import mickey.mickey\n",
    "import mickey.plot\n",
    "import tqdm\n",
    "import numpy as np\n",
    "import scipy.optimize\n",
    "import seaborn"
   ]
  },
  {
   "cell_type": "markdown",
   "metadata": {},
   "source": [
    "## Opening directory of interest"
   ]
  },
  {
   "cell_type": "code",
   "execution_count": null,
   "metadata": {},
   "outputs": [],
   "source": [
    "#%cd /home/artur/Desktop/Torus_pn_2D_cooling/Simulations/rho1.5e-6/\n",
    "%cd /home/artur/Desktop/Torus_pn_2D_cooling/Simulations/rho1e-6/\n",
    "#%cd /home/artur/Desktop/Torus_pn_2D_cooling/Simulations/rho5e-7/\n",
    "#%cd /home/artur/Desktop/Torus_pn_2D_cooling/Simulations/rho3e-7/\n",
    "#%cd /home/artur/Desktop/Torus_pn_2D_cooling/Simulations/rho5e-8/\n",
    "#%cd /home/artur/Desktop/Torus_pn_2D_cooling/Simulations/rho1e-8/\n",
    "#%cd /home/artur/Desktop/Torus_pn_2D_cooling/Simulations/rho5e-9/"
   ]
  },
  {
   "cell_type": "markdown",
   "metadata": {},
   "source": [
    "## Load up the plotting methods"
   ]
  },
  {
   "cell_type": "code",
   "execution_count": null,
   "metadata": {},
   "outputs": [],
   "source": [
    "%pylab inline"
   ]
  },
  {
   "cell_type": "markdown",
   "metadata": {},
   "source": [
    "## Parameters needed"
   ]
  },
  {
   "cell_type": "code",
   "execution_count": null,
   "metadata": {},
   "outputs": [],
   "source": [
    "#Mass of black hole in solar mass\n",
    "mbh = 10.0\n",
    "\n",
    "#units of sim\n",
    "unit_length = 2.969707e6\n",
    "unit_velocity = 2.1198528e10\n",
    "\n",
    "#MOST IMPORTANT UNIT TO MY WORK\n",
    "unit_density = 3e-7\n",
    "\n",
    "#Eddington accretion rate for mbh in cgs using efficiency of 0.1\n",
    "eddingtonac = 1.39916e18 * mbh\n",
    "\n",
    "#Conversion of mdot from code units to cgs\n",
    "mdot_conv = unit_length*unit_length*unit_density*unit_velocity\n",
    "\n",
    "#Conversion of time to orbital time in 100Rs\n",
    "torb = 6220.8\n",
    "\n",
    "#Conversion of time to GM/c3\n",
    "tm = 2.828427"
   ]
  },
  {
   "cell_type": "markdown",
   "metadata": {},
   "source": [
    "## Calculating accretion rate"
   ]
  },
  {
   "cell_type": "code",
   "execution_count": null,
   "metadata": {},
   "outputs": [],
   "source": [
    "# will hold mdot-values at the inner boundary\n",
    "mdot=[]\n",
    "\n",
    "# simulation time in orbits and unit of GM/C3\n",
    "t=[]\n",
    "tgmc3 = []\n",
    "\n",
    "for i in tqdm.tqdm(range(2634,2989)):\n",
    "    # reads data\n",
    "    p=mickey.mickey.Pluto(i, stdout=False)\n",
    "    \n",
    "    mdot.append(p.mdotr(0)/eddingtonac*mdot_conv)\n",
    "    t.append(p.t/torb)\n",
    "    tgmc3.append(p.t*tm)\n",
    "\n",
    "t,mdot,tgmc3=array(t),array(mdot),array(tgmc3)"
   ]
  },
  {
   "cell_type": "code",
   "execution_count": null,
   "metadata": {},
   "outputs": [],
   "source": [
    "#Gaussian\n",
    "def gaussian(x, amp1,cen1,sigma1):\n",
    "    return amp1*(1/(sigma1*(np.sqrt(2*np.pi))))*(np.exp(-((x-cen1)**2)/(2*(sigma1)**2)))\n",
    "\n",
    "#Initial and final snapshot analysed\n",
    "snap_i = 2423\n",
    "snap_f = 2424\n",
    "\n",
    "for k in tqdm.tqdm(range(snap_i, snap_f)):\n",
    "    \n",
    "    p=mickey.mickey.Pluto(k,stdout=False)\n",
    "    c=p.regridFast(2000,xlim=100.)\n",
    "    \n",
    "    #Holds aspect ratio\n",
    "    hr = []\n",
    "\n",
    "    xx = c.rho.T[600][100:1900]\n",
    "    yy = c.x2[100:1900]\n",
    "    n = len(yy)\n",
    "    mean = sum(yy * xx)/n\n",
    "    sigma = sum(xx*(yy-mean)**2)/n\n",
    "    amp = xx.max()\n",
    "\n",
    "    popt, pcov = scipy.optimize.curve_fit(gaussian, yy, xx, p0=[amp, mean, sigma], maxfev=100000)"
   ]
  },
  {
   "cell_type": "code",
   "execution_count": null,
   "metadata": {},
   "outputs": [],
   "source": [
    "fit = gaussian(c.x2[100:1900], popt[0], popt[1], popt[2])\n",
    "\n",
    "plot(c.x2[100:1900], c.rho.T[600][100:1900], label=\"Data\")\n",
    "plot(c.x2[100:1900], fit, label=\"Gaussian fit\")\n",
    "plot(np.ones(2)*(popt[1]-popt[2]),[np.amin(fit), np.amax(fit)], \":k\")\n",
    "plot(np.ones(2)*(popt[1]+popt[2]),[np.amin(fit), np.amax(fit)], \":k\")\n",
    "fill_betweenx([np.amin(fit), np.amax(fit)], popt[1]-popt[2], popt[1]+popt[2], alpha=\"0.1\", color=\"black\")\n",
    "\n",
    "plt.xlim(-2,3)\n",
    "\n",
    "#title(\"Gaussian fit\", fontsize=16)\n",
    "\n",
    "#xscale('log')\n",
    "#yscale('log')\n",
    "\n",
    "xlabel(\"$Z/R_s$\", fontsize=15)\n",
    "ylabel(r\"$\\rho$ (code units)\", fontsize=15)\n",
    "\n",
    "plt.legend(fontsize=13)\n",
    "\n",
    "tick_params(axis='both', which='major', labelsize=13)\n",
    "tick_params(axis='both', which='minor', labelsize=12)\n",
    "tight_layout()\n",
    "\n",
    "plt.savefig('/home/artur/Desktop/Torus_pn_2D_cooling/Simulations/fitting_gaussian.png', dpi=300)\n",
    "plt.clf()\n",
    "plt.close('all')\n",
    "#plt.show()"
   ]
  },
  {
   "cell_type": "markdown",
   "metadata": {},
   "source": [
    "## Calculate scale height by fitting a gaussian to each radii cell"
   ]
  },
  {
   "cell_type": "code",
   "execution_count": null,
   "metadata": {},
   "outputs": [],
   "source": [
    "#getting scale height H by fitting a gaussian in the density function of each x, rho(y)\n",
    "#Holds the truncation radius for each snapshot\n",
    "Rtr = []\n",
    "\n",
    "#Range to calculate the truncation radius\n",
    "init = 0\n",
    "final = 80\n",
    "\n",
    "#Gaussian\n",
    "def gaussian(x, amp1,cen1,sigma1):\n",
    "    return amp1*(1/(sigma1*(np.sqrt(2*np.pi))))*(np.exp(-((x-cen1)**2)/(2*(sigma1)**2)))\n",
    "\n",
    "#Initial and final snapshot analysed\n",
    "snap_i = 2634\n",
    "snap_f = 2989\n",
    "\n",
    "for k in tqdm.tqdm(range(snap_i, snap_f)):\n",
    "    \n",
    "    p=mickey.mickey.Pluto(k,stdout=False)\n",
    "    c=p.regridFast(2000,xlim=100.)\n",
    "    \n",
    "    #Holds aspect ratio\n",
    "    hr = []\n",
    "\n",
    "    for j in range(30, 1900):\n",
    "        xx = c.rho.T[j][100:1900]\n",
    "        yy = c.x2[100:1900]\n",
    "        n = len(yy)\n",
    "        mean = sum(yy * xx)/n\n",
    "        sigma = sum(xx*(yy-mean)**2)/n\n",
    "        amp = xx.max()\n",
    "\n",
    "        popt, pcov = scipy.optimize.curve_fit(gaussian, yy, xx, p0=[amp, mean, sigma], maxfev=100000)\n",
    "\n",
    "        hr.append(popt[2]/c.x1[j])\n",
    "\n",
    "    #GETTING Rtr BY TAKING A RANGE OF H/R AND TAKING THE MEAN TO BE LESS THAN 0.015\n",
    "    hri = hr[init:final]\n",
    "    media = np.mean(hri)\n",
    "    for i in range(1870):\n",
    "        if media < 0.015:\n",
    "            Rtr.append(np.mean(c.x1[init+i+30:final+i+30]))\n",
    "            break\n",
    "        elif i + final < 1870:\n",
    "            del hri[0]\n",
    "            hri.append(hr[i+final])\n",
    "            media = np.mean(hri)\n",
    "        else:\n",
    "            break"
   ]
  },
  {
   "cell_type": "markdown",
   "metadata": {},
   "source": [
    "## Calculate Rtr fitting -a * Tanh(x - b) + c"
   ]
  },
  {
   "cell_type": "code",
   "execution_count": null,
   "metadata": {
    "scrolled": true
   },
   "outputs": [],
   "source": [
    "#getting scale height H by fitting a gaussian in the density function of each x, rho(y)\n",
    "#Holds the truncation radius for each snapshot\n",
    "Rtr = []\n",
    "\n",
    "snap_i = 2200\n",
    "snap_f = 2201\n",
    "\n",
    "#Gaussian\n",
    "def gaussian(x, amp1,cen1,sigma1):\n",
    "    return amp1*(1/(sigma1*(np.sqrt(2*np.pi))))*(np.exp(-((x-cen1)**2)/(2*(sigma1)**2)))\n",
    "\n",
    "#Hiperbolic Tangent\n",
    "def minus_tanh(x, a1, a2, a3):\n",
    "     return (-a1 * np.tanh(x - a2) + a3)\n",
    "\n",
    "for k in tqdm.tqdm(range(snap_i, snap_f)):\n",
    "    \n",
    "    p=mickey.mickey.Pluto(k,stdout=False)\n",
    "    c=p.regridFast(2000,xlim=100.)\n",
    "    hr = []\n",
    "    \n",
    "    for j in range(30, 1900):\n",
    "        xx = c.rho.T[j][100:1900]\n",
    "        yy = c.x2[100:1900]\n",
    "        n = len(yy)\n",
    "        mean = sum(yy * xx)/n\n",
    "        sigma = sum(xx*(yy-mean)**2)/n\n",
    "        amp = xx.max()\n",
    "\n",
    "        popt, pcov = scipy.optimize.curve_fit(gaussian, yy, xx, p0=[amp, mean, sigma], maxfev=100000)\n",
    "\n",
    "        hr.append(popt[2]/c.x1[j])\n",
    "    \n",
    "    #Initial guesses\n",
    "    a1 = 0.06\n",
    "    a2 = 10.\n",
    "    a3 = 0.06\n",
    "    \n",
    "    fit, cov = scipy.optimize.curve_fit(minus_tanh, c.x1[30:1900], hr, p0=[a1, a2, a3], maxfev=10000)\n",
    "    Rtr.append(fit[1])"
   ]
  },
  {
   "cell_type": "markdown",
   "metadata": {},
   "source": [
    "## Use both methods"
   ]
  },
  {
   "cell_type": "code",
   "execution_count": null,
   "metadata": {},
   "outputs": [],
   "source": [
    "#getting scale height H by fitting a gaussian in the density function of each x, rho(y)\n",
    "#Holds the truncation radius for each snapshot\n",
    "Rtr1 = []\n",
    "Rtr2 = []\n",
    "\n",
    "#Range to calculate the truncation radius\n",
    "init = 0\n",
    "final = 50\n",
    "\n",
    "#Gaussian\n",
    "def gaussian(x, amp1,cen1,sigma1):\n",
    "    return amp1*(1/(sigma1*(np.sqrt(2*np.pi))))*(np.exp(-((x-cen1)**2)/(2*(sigma1)**2)))\n",
    "\n",
    "#Hiperbolic Tangent\n",
    "def minus_tanh(x, a1, a2, a3):\n",
    "     return (-a1 * np.tanh(x - a2) + a3)\n",
    "\n",
    "#Initial and final snapshot analysed\n",
    "snap_i = 2400\n",
    "snap_f = 2401\n",
    "\n",
    "for k in tqdm.tqdm(range(snap_i, snap_f)):\n",
    "    \n",
    "    p=mickey.mickey.Pluto(k,stdout=False)\n",
    "    c=p.regridFast(2000,xlim=100.)\n",
    "    \n",
    "    #Holds aspect ratio\n",
    "    hr = []\n",
    "\n",
    "    for j in range(30, 1900):\n",
    "        xx = c.rho.T[j][100:1900]\n",
    "        yy = c.x2[100:1900]\n",
    "        n = len(yy)\n",
    "        mean = sum(yy * xx)/n\n",
    "        sigma = sum(xx*(yy-mean)**2)/n\n",
    "        amp = xx.max()\n",
    "\n",
    "        popt, pcov = scipy.optimize.curve_fit(gaussian, yy, xx, p0=[amp, mean, sigma], maxfev=100000)\n",
    "\n",
    "        hr.append(popt[2]/c.x1[j])\n",
    "    \n",
    "    #Initial guesses\n",
    "    a1 = 0.06\n",
    "    a2 = 10.\n",
    "    a3 = 0.06\n",
    "    \n",
    "    fit, cov = scipy.optimize.curve_fit(minus_tanh, c.x1[30:1900], hr, p0=[a1, a2, a3], maxfev=10000)\n",
    "    Rtr1.append(fit[1])\n",
    "\n",
    "    #GETTING Rtr BY TAKING A RANGE OF H/R AND TAKING THE MEAN TO BE LESS THAN 0.015\n",
    "    hri = hr[init:final]\n",
    "    media = np.mean(hri)\n",
    "    for i in range(1870):\n",
    "        if media < 0.015:\n",
    "            Rtr2.append(np.mean(c.x1[init+i+30:final+i+30]))\n",
    "            break\n",
    "        elif i + final < 1870:\n",
    "            del hri[0]\n",
    "            hri.append(hr[i+final])\n",
    "            media = np.mean(hri)\n",
    "        else:\n",
    "            break"
   ]
  },
  {
   "cell_type": "markdown",
   "metadata": {},
   "source": [
    "## Plot every fit of Rtr to analyse its goodness"
   ]
  },
  {
   "cell_type": "code",
   "execution_count": null,
   "metadata": {},
   "outputs": [],
   "source": [
    "#getting scale height H by fitting a gaussian in the density function of each x, rho(y)\n",
    "#Holds the truncation radius for each snapshot\n",
    "Rtr = []\n",
    "rtr = []\n",
    "\n",
    "#Range to calculate the truncation radius\n",
    "init = 0\n",
    "finala = 80\n",
    "finalb = 5\n",
    "\n",
    "#Gaussian\n",
    "def gaussian(x, amp1,cen1,sigma1):\n",
    "    return amp1*(1/(sigma1*(np.sqrt(2*np.pi))))*(np.exp(-((x-cen1)**2)/(2*(sigma1)**2)))\n",
    "\n",
    "#Initial and final snapshot analysed\n",
    "snap_i = 2440\n",
    "snap_f = 2441\n",
    "\n",
    "for k in tqdm.tqdm(range(snap_i, snap_f)):\n",
    "    \n",
    "    p=mickey.mickey.Pluto(k,stdout=False)\n",
    "    c=p.regridFast(2000,xlim=100.)\n",
    "    \n",
    "    #Holds aspect ratio\n",
    "    hr = []\n",
    "\n",
    "    for j in range(30, 1900):\n",
    "        xx = c.rho.T[j][100:1900]\n",
    "        yy = c.x2[100:1900]\n",
    "        n = len(yy)\n",
    "        mean = sum(yy * xx)/n\n",
    "        sigma = sum(xx*(yy-mean)**2)/n\n",
    "        amp = xx.max()\n",
    "\n",
    "        popt, pcov = scipy.optimize.curve_fit(gaussian, yy, xx, p0=[amp, mean, sigma], maxfev=100000)\n",
    "\n",
    "        hr.append(popt[2]/c.x1[j])\n",
    "\n",
    "    #GETTING Rtr BY TAKING A RANGE OF H/R AND TAKING THE MEAN TO BE LESS THAN 0.015\n",
    "    hri = hr[init:finala]\n",
    "    media = np.mean(hri)\n",
    "    for i in range(1870):\n",
    "        if media < 0.015:\n",
    "            Rtr.append(np.mean(c.x1[init+i+30:finala+i+30]))\n",
    "            break\n",
    "        elif i + final < 1870:\n",
    "            del hri[0]\n",
    "            hri.append(hr[i+finala])\n",
    "            media = np.mean(hri)\n",
    "        else:\n",
    "            break\n",
    "\n",
    "    hri = hr[init:finalb]\n",
    "    media = np.mean(hri)\n",
    "    for i in range(1870):\n",
    "        if media < 0.015:\n",
    "            rtr.append(np.mean(c.x1[init+i+30:finalb+i+30]))\n",
    "            break\n",
    "        elif i + final < 1870:\n",
    "            del hri[0]\n",
    "            hri.append(hr[i+finalb])\n",
    "            media = np.mean(hri)\n",
    "        else:\n",
    "            break\n",
    "    \n",
    "\n",
    "    \n",
    "    figure(figsize=(8,4))\n",
    "    \n",
    "    #plot(rtr[k - snap_i]*ones(2), [0,0.15], \":k\", label=\"$\\Delta r = %0.2f$\" % ( Rtr[k - snap_i] - rtr[k - snap_i]))\n",
    "    plot(Rtr[k - snap_i]*ones(2), [0,0.15],'--k', label='Rtr = %0.2f' % Rtr[k - snap_i])\n",
    "    plot(c.x1[30:1900], hr, lw=3, color='b', label='Gaussian Fit')\n",
    "    #plot(c.x1[30:1900], minus_tanh(c.x1[30:1900], fit[0], fit[1], fit[2]), lw=3, color='r', label='$Tanh (x)$ Fit')\n",
    "\n",
    "    title(\"Aspect Ratio\", fontsize=16)\n",
    "\n",
    "    xscale('log')\n",
    "    #yscale('log')\n",
    "\n",
    "    xlabel(\"$R/R_s$\", fontsize=15)\n",
    "    ylabel(\"$H/R$\", fontsize=15)\n",
    "\n",
    "    plt.legend(fontsize=13)\n",
    "\n",
    "    tick_params(axis='both', which='major', labelsize=13)\n",
    "    tick_params(axis='both', which='minor', labelsize=12)\n",
    "    tight_layout()\n",
    "\n",
    "    plt.savefig('/home/artur/Desktop/Torus_pn_2D_cooling/Simulations/aspect_ratio.png', dpi=300)\n",
    "    plt.clf()\n",
    "    plt.close('all')\n",
    "    #plt.show()"
   ]
  },
  {
   "cell_type": "code",
   "execution_count": null,
   "metadata": {},
   "outputs": [],
   "source": [
    "print(c.x1[rtr1+8])"
   ]
  },
  {
   "cell_type": "markdown",
   "metadata": {},
   "source": [
    "## Print Rtr and mdot with uncertainties"
   ]
  },
  {
   "cell_type": "code",
   "execution_count": null,
   "metadata": {},
   "outputs": [],
   "source": [
    "#print (Rtr)\n",
    "#print (Rtr1, Rtr2)\n",
    "print (np.mean(Rtr), np.std(Rtr))\n",
    "print (np.mean(abs(mdot)), np.std(abs(mdot)))"
   ]
  },
  {
   "cell_type": "markdown",
   "metadata": {},
   "source": [
    "## Saving/Loading array "
   ]
  },
  {
   "cell_type": "code",
   "execution_count": null,
   "metadata": {},
   "outputs": [],
   "source": [
    "np.savez('data1.npz', abs(mdot), Rtr)"
   ]
  },
  {
   "cell_type": "code",
   "execution_count": null,
   "metadata": {},
   "outputs": [],
   "source": [
    "data = np.load('data.npz')\n",
    "#print (data['arr_0'])\n",
    "mdot = data['arr_0']\n",
    "Rtr = data['arr_1']"
   ]
  },
  {
   "cell_type": "code",
   "execution_count": null,
   "metadata": {},
   "outputs": [],
   "source": [
    "print((max(Rtr)-min(Rtr))/sqrt(len(Rtr)))\n",
    "print(np.median(Rtr))"
   ]
  },
  {
   "cell_type": "markdown",
   "metadata": {},
   "source": [
    "## Plotting Rtr vs Mdot"
   ]
  },
  {
   "cell_type": "code",
   "execution_count": null,
   "metadata": {},
   "outputs": [],
   "source": [
    "#figure(figsize=(8,6))\n",
    "\n",
    "seaborn.set(style=\"white\", color_codes=True)\n",
    "g = seaborn.jointplot(x=mdot, y=Rtr, kind='scatter', color = 'xkcd:blue', space=0, ratio=6, size=7, stat_func=None,\n",
    "                     marginal_kws=dict(bins=15, rug=False))\n",
    "g = g.set_axis_labels(\"$\\dot{M}/\\dot{M}_{\\\\rm Edd}$\", \"$R_{\\\\rm tr}/R_s$\")\n",
    "g = g.plot_joint(seaborn.kdeplot, zorder=1, n_levels=8)\n",
    "plt.text(0.055,47.2, '$R_{\\\\rm tr}/R_s = %0.1f \\pm %0.1f$\\n$\\dot{M}/\\dot{M}_{\\\\rm Edd} = %0.2f \\pm %0.2f$' \n",
    "         % (np.median(Rtr), np.std(Rtr),np.mean(mdot), np.std(mdot)), fontsize = 18,\n",
    "            color='Black', fontstyle='italic', bbox=dict(boxstyle=\"square\", lw=1.1,\n",
    "                   ec=(0, 0, 0), fc=(1, 1, 1)))\n",
    "g = g.savefig('Rtr_vs_mdot_3e-7.png', dpi=300)\n",
    "\n",
    "#errorbar(np.mean(abs(mdot)), np.median(Rtr), np.std(Rtr), np.std(abs(mdot)), marker='o', color='r', markersize=10, capsize=10)\n",
    "#scatter(np.mean(abs(mdot)), np.median(Rtr), marker='o', c='r', label='$R_{\\\\rm tr}/R_s = %0.1f \\pm %0.1f$\\n $\\dot{M}/\\dot{M}_{\\\\rm Edd} = %0.2f \\pm %0.2f$' % (np.median(Rtr), np.std(Rtr),np.mean(abs(mdot)), np.std(abs(mdot))))\n",
    "#scatter(abs(mdot), Rtr, marker='o', c='b')\n",
    "\n",
    "#plots.jointplot(mdot, Rtr, xlabel=\"$R_{\\\\rm tr}/R_s$\", ylabel=\"$\\dot{M}/\\dot{M}_{\\\\rm Edd}$\")\n",
    "\n",
    "#title(\"Truncation radius vs Accretion rate\", fontsize=16)\n",
    "\n",
    "#ylabel(\"$R_{\\\\rm tr}/R_s$\", fontsize=15)\n",
    "#xlabel(\"$\\dot{M}/\\dot{M}_{\\\\rm Edd}$\", fontsize=15)\n",
    "\n",
    "#plt.legend(fontsize=13)\n",
    "\n",
    "#tick_params(axis='both', which='major', labelsize=13)\n",
    "#tick_params(axis='both', which='minor', labelsize=12)\n",
    "#tight_layout()\n",
    "\n",
    "#plt.show()\n",
    "#plt.savefig('Rtr_vs_mdot_3e-7.png', dpi=300)\n",
    "plt.clf()\n",
    "plt.close('all')"
   ]
  },
  {
   "cell_type": "markdown",
   "metadata": {},
   "source": [
    "## Plotting Aspect Ratio vs R/Rs with Rtr"
   ]
  },
  {
   "cell_type": "code",
   "execution_count": null,
   "metadata": {},
   "outputs": [],
   "source": [
    "figure(figsize=(8,4))\n",
    "\n",
    "plot(Rtr*ones(2), np.linspace(0,0.15, 2),'--k', label='Rtr = %0.2f' % Rtr[0])\n",
    "plot(c.x1[30:1900], hr, lw=3, color='b', label='Gaussian Fit')\n",
    "#plot(c.x1[30:1900], minus_tanh(c.x1[30:1900], fit[0], fit[1], fit[2]), lw=3, color='r', label='$Tanh (x)$ Fit')\n",
    "\n",
    "title(\"Aspect Ratio\", fontsize=16)\n",
    "\n",
    "#xscale('log')\n",
    "#yscale('log')\n",
    "\n",
    "xlabel(\"$R/R_s$\", fontsize=15)\n",
    "ylabel(\"$H/R$\", fontsize=15)\n",
    "\n",
    "plt.legend(fontsize=13)\n",
    "\n",
    "tick_params(axis='both', which='major', labelsize=13)\n",
    "tick_params(axis='both', which='minor', labelsize=12)\n",
    "tight_layout()\n",
    "\n",
    "plt.savefig('aspect_ratio.png', dpi=300)\n",
    "plt.clf()\n",
    "plt.close('all')"
   ]
  }
 ],
 "metadata": {
  "kernelspec": {
   "display_name": "Python 3",
   "language": "python",
   "name": "python3"
  },
  "language_info": {
   "codemirror_mode": {
    "name": "ipython",
    "version": 3
   },
   "file_extension": ".py",
   "mimetype": "text/x-python",
   "name": "python",
   "nbconvert_exporter": "python",
   "pygments_lexer": "ipython3",
   "version": "3.6.7"
  }
 },
 "nbformat": 4,
 "nbformat_minor": 2
}
