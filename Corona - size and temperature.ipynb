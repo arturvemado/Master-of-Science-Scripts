{
 "cells": [
  {
   "cell_type": "markdown",
   "metadata": {},
   "source": [
    "## Imports"
   ]
  },
  {
   "cell_type": "code",
   "execution_count": null,
   "metadata": {},
   "outputs": [],
   "source": [
    "import mickey.mickey\n",
    "import mickey.plot\n",
    "import tqdm\n",
    "import numpy as np\n",
    "import scipy.optimize\n",
    "%pylab inline"
   ]
  },
  {
   "cell_type": "markdown",
   "metadata": {},
   "source": [
    "## Directory"
   ]
  },
  {
   "cell_type": "code",
   "execution_count": null,
   "metadata": {},
   "outputs": [],
   "source": [
    "# In order from the densest to the least dense [0,1,2,3,4,5]\n",
    "\n",
    "my_dir = [\"/home/artur/Desktop/Torus_pn_2D_cooling/Simulations/rho1.5e-6/\",\n",
    "         \"/home/artur/Desktop/Torus_pn_2D_cooling/Simulations/rho1e-6/\",\n",
    "         \"/home/artur/Desktop/Torus_pn_2D_cooling/Simulations/rho5e-7/\",\n",
    "         \"/home/artur/Desktop/Torus_pn_2D_cooling/Simulations/rho3e-7/\",\n",
    "         \"/home/artur/Desktop/Torus_pn_2D_cooling/Simulations/rho1e-7/\"]"
   ]
  },
  {
   "cell_type": "code",
   "execution_count": null,
   "metadata": {},
   "outputs": [],
   "source": [
    "# Choose the directory in the next variable\n",
    "directory = 0\n",
    "%cd {my_dir[directory]}"
   ]
  },
  {
   "cell_type": "markdown",
   "metadata": {},
   "source": [
    "## Averaging the density using regrid"
   ]
  },
  {
   "cell_type": "code",
   "execution_count": null,
   "metadata": {},
   "outputs": [],
   "source": [
    "snap_i = 2423 #2634\n",
    "snap_f = 2778 #2989\n",
    "snap_range = (snap_f - snap_i)\n",
    "\n",
    "c=mickey.mickey.Pluto(snap_i,stdout=False).regridFast(n=1500, xlim=100)\n",
    "\n",
    "#variables\n",
    "rho_avg = log10(c.rho)"
   ]
  },
  {
   "cell_type": "code",
   "execution_count": null,
   "metadata": {},
   "outputs": [],
   "source": [
    "for i in tqdm.tqdm(range(snap_i+1,snap_f)):\n",
    "    # reads data\n",
    "    c=mickey.mickey.Pluto(i,stdout=False).regridFast(n=1500, xlim=100)\n",
    "    \n",
    "    # sum of arrays to be averaged in log10\n",
    "    rho_avg = np.add(rho_avg, log10(c.rho))\n",
    "\n",
    "rho_avg /= snap_range"
   ]
  },
  {
   "cell_type": "markdown",
   "metadata": {},
   "source": [
    "## Eliminating the cold, thin, dense disk"
   ]
  },
  {
   "cell_type": "code",
   "execution_count": null,
   "metadata": {},
   "outputs": [],
   "source": [
    "rho_avg_corona = rho_avg.copy()\n",
    "rho_avg_corona[rho_avg_corona > -0.5] = -0.5"
   ]
  },
  {
   "cell_type": "markdown",
   "metadata": {},
   "source": [
    "## Plotting the average variable"
   ]
  },
  {
   "cell_type": "code",
   "execution_count": null,
   "metadata": {},
   "outputs": [],
   "source": [
    "# Check if it is everything ok with variable\n",
    "r_range = 100.\n",
    "\n",
    "figure(figsize=(8,4))\n",
    "\n",
    "subplot(1,2,1)\n",
    "pcolormesh(c.X1, c.X2, rho_avg, vmin=amin(rho_avg), vmax=amax(rho_avg), cmap='hot_r')\n",
    "title(\"$<\\\\rho>$ before the threshold\")\n",
    "circle2=Circle((0,0),1,color='k')\n",
    "gca().add_artist(circle2)\n",
    "xlim(0,r_range)\n",
    "ylim(-r_range/2.,r_range/2.)\n",
    "colorbar()\n",
    "tick_params(axis='both', which='major', labelsize=13)\n",
    "tick_params(axis='both', which='minor', labelsize=12)\n",
    "\n",
    "subplot(1,2,2)\n",
    "pcolormesh(c.X1, c.X2, rho_avg_corona, vmin=amin(rho_avg), vmax=amax(rho_avg), cmap='hot_r')\n",
    "title(\"$<\\\\rho>$ after the threshold\")\n",
    "circle2=Circle((0,0),1,color='k')\n",
    "gca().add_artist(circle2)\n",
    "xlim(0,r_range)\n",
    "ylim(-r_range/2.,r_range/2.)\n",
    "colorbar()\n",
    "\n",
    "tick_params(axis='both', which='major', labelsize=13)\n",
    "tick_params(axis='both', which='minor', labelsize=12)\n",
    "tight_layout()\n",
    "\n",
    "#lt.show()\n",
    "plt.savefig('/home/artur/Desktop/Torus_pn_2D_cooling/Simulations/threshold-applied.png', dpi=300)\n",
    "plt.clf()\n",
    "plt.cla()\n",
    "plt.close('all')"
   ]
  },
  {
   "cell_type": "markdown",
   "metadata": {},
   "source": [
    "## Find needed index"
   ]
  },
  {
   "cell_type": "code",
   "execution_count": null,
   "metadata": {},
   "outputs": [],
   "source": [
    "def find_idx(array, value):\n",
    "    idx = (np.abs(array - value)).argmin()\n",
    "    return idx"
   ]
  },
  {
   "cell_type": "code",
   "execution_count": null,
   "metadata": {},
   "outputs": [],
   "source": [
    "# z-axis\n",
    "idx_i = find_idx(c.x2, -25.)\n",
    "idx_f = find_idx(c.x2, 25.)\n",
    "# x-axis\n",
    "idx_inner_boundary = find_idx(c.x1, 2.)"
   ]
  },
  {
   "cell_type": "markdown",
   "metadata": {},
   "source": [
    "## Fitting Gaussian to find H (i.e. the height of the corona)"
   ]
  },
  {
   "cell_type": "code",
   "execution_count": null,
   "metadata": {},
   "outputs": [],
   "source": [
    "exp_rho_avg_corona = 10**rho_avg_corona"
   ]
  },
  {
   "cell_type": "code",
   "execution_count": null,
   "metadata": {},
   "outputs": [],
   "source": [
    "#Gaussian\n",
    "def gaussian(x, amp, mean, sigma):\n",
    "    return amp*(1/(sigma*(np.sqrt(2*np.pi))))*(np.exp(-((x-mean)**2)/(2*(sigma)**2)))\n",
    "\n",
    "#Holds aspect ratio\n",
    "H_corona, H_corona_error = [], []\n",
    "\n",
    "for i in tqdm.tqdm(range(len(c.x1[idx_inner_boundary::]))):\n",
    "\n",
    "    z = c.x2[idx_i:idx_f]\n",
    "    rho_i = exp_rho_avg_corona.T[i][idx_i:idx_f]\n",
    "    n = len(z)\n",
    "    mean = sum(z * rho_i)/n\n",
    "    sigma = sum(rho_i*(z-mean)**2)/n\n",
    "    amp = rho_i.max()\n",
    "\n",
    "    fit, cov = scipy.optimize.curve_fit(gaussian, z, rho_i, p0=[amp, mean, sigma], maxfev=100000)\n",
    "    H_corona.append(fit[2])\n",
    "    H_corona_error.append(np.sqrt(np.diag(cov))[2])"
   ]
  },
  {
   "cell_type": "code",
   "execution_count": null,
   "metadata": {},
   "outputs": [],
   "source": [
    "print(2*max(H_corona))\n",
    "idx_max_H = find_idx(H_corona, max(H_corona))\n",
    "print(c.x1[idx_max_H], 2*H_corona_error[idx_max_H])"
   ]
  },
  {
   "cell_type": "code",
   "execution_count": null,
   "metadata": {},
   "outputs": [],
   "source": [
    "H_corona = np.array(H_corona)"
   ]
  },
  {
   "cell_type": "code",
   "execution_count": null,
   "metadata": {},
   "outputs": [],
   "source": [
    "fit_curve = gaussian(c.x2[idx_i:idx_f], fit[0], fit[1], fit[2])\n",
    "\n",
    "plot(c.x2[idx_i:idx_f], rho_i, label=\"Data\")\n",
    "plot(c.x2[idx_i:idx_f], fit_curve, label=\"Gaussian fit\")\n",
    "plot(np.ones(2)*(fit[1]-2*fit[2]),[np.amin(fit_curve), np.amax(fit_curve)], \":k\")\n",
    "plot(np.ones(2)*(fit[1]+2*fit[2]),[np.amin(fit_curve), np.amax(fit_curve)], \":k\")\n",
    "#fill_betweenx([np.amin(fit), np.amax(fit)], popt[1]-popt[2], popt[1]+popt[2], alpha=\"0.1\", color=\"black\")\n",
    "\n",
    "#plt.xlim(-2,3)\n",
    "\n",
    "#title(\"Gaussian fit\", fontsize=16)\n",
    "\n",
    "#xscale('log')\n",
    "#yscale('log')\n",
    "\n",
    "xlabel(\"$Z/R_s$\", fontsize=15)\n",
    "ylabel(r\"$\\rho$ (code units)\", fontsize=15)\n",
    "\n",
    "plt.legend(fontsize=13)\n",
    "\n",
    "tick_params(axis='both', which='major', labelsize=13)\n",
    "tick_params(axis='both', which='minor', labelsize=12)\n",
    "tight_layout()\n",
    "\n",
    "#plt.savefig('/home/artur/Desktop/Torus_pn_2D_cooling/Simulations/fitting_gaussian.png', dpi=300)\n",
    "#plt.clf()\n",
    "#plt.close('all')\n",
    "plt.show()"
   ]
  },
  {
   "cell_type": "code",
   "execution_count": null,
   "metadata": {},
   "outputs": [],
   "source": [
    "plot(c.x1[idx_inner_boundary::], 2*H_corona)\n",
    "\n",
    "xlabel(\"$R/R_s$\", fontsize=15)\n",
    "ylabel(\"$H/R_s$\", fontsize=15)\n",
    "\n",
    "#plt.legend(fontsize=13)\n",
    "\n",
    "tick_params(axis='both', which='major', labelsize=13)\n",
    "tick_params(axis='both', which='minor', labelsize=12)\n",
    "tight_layout()\n",
    "\n",
    "\n",
    "#plt.savefig('/home/artur/Desktop/Torus_pn_2D_cooling/Simulations/fitting_gaussian.png', dpi=300)\n",
    "#plt.clf()\n",
    "#plt.close('all')\n",
    "plt.show()"
   ]
  },
  {
   "cell_type": "markdown",
   "metadata": {},
   "source": [
    "## Saving the values of H for each simulation"
   ]
  },
  {
   "cell_type": "code",
   "execution_count": null,
   "metadata": {},
   "outputs": [],
   "source": [
    "height_corona = [8.1, 9.0, 11.7, 13.0] #21.5\n",
    "height_corona2 = [6.7, 7.5, 9.5, 11.2] #18.5\n",
    "height_corona_error = [0.1, 0.1, 0.1, 0.2] #0.3\n",
    "radius_at_height = [20.2, 21.2, 28.1, 33.8] #53.6\n",
    "radius_at_height2 = [41.2, 42.4, 56.2, 66.4] #58.9\n",
    "radius_at_height_err = np.zeros(4)\n",
    "mdot = [0.35, 0.24, 0.11, 0.06]\n",
    "mdot_err = [0.09, 0.07, 0.02, 0.01]"
   ]
  },
  {
   "cell_type": "code",
   "execution_count": null,
   "metadata": {},
   "outputs": [],
   "source": [
    "figure(figsize=(8,4))\n",
    "subplot(1,2,1)\n",
    "plt.errorbar(x=mdot, y=height_corona2, yerr=height_corona_error, xerr=mdot_err,\n",
    "             fmt='bo',\n",
    "             capsize=3)\n",
    "title(\"Height\", fontsize=16)\n",
    "xlabel(\"$\\dot{M}/\\dot{M}_{\\\\rm Edd}$\", fontsize=15)\n",
    "ylabel(\"$Z/R_s$\", fontsize=15)\n",
    "xscale(\"log\")\n",
    "#yscale(\"log\")\n",
    "#ylim(6, 11)\n",
    "tick_params(axis='both', which='major', labelsize=13)\n",
    "tick_params(axis='both', which='minor', labelsize=12)\n",
    "\n",
    "subplot(1,2,2)\n",
    "plt.errorbar(x=mdot, y=radius_at_height2, yerr=radius_at_height_err, xerr=mdot_err, fmt='bo', capsize=3)\n",
    "title(\"Extension\", fontsize=16)\n",
    "xlabel(\"$\\dot{M}/\\dot{M}_{\\\\rm Edd}$\", fontsize=15)\n",
    "ylabel(\"$R/R_s$\", fontsize=15)\n",
    "xscale(\"log\")\n",
    "#yscale(\"log\")\n",
    "xlim(0.04)\n",
    "#ylim(20, 60)\n",
    "tick_params(axis='both', which='major', labelsize=13)\n",
    "tick_params(axis='both', which='minor', labelsize=12)\n",
    "tight_layout()\n",
    "\n",
    "#plt.legend(fontsize=13)\n",
    "#plt.show()\n",
    "plt.savefig('/home/artur/Desktop/Torus_pn_2D_cooling/Simulations/height_extension_corona.png', dpi=300)\n",
    "plt.clf()\n",
    "plt.close('all')"
   ]
  },
  {
   "cell_type": "markdown",
   "metadata": {},
   "source": [
    "## Temperature of the corona"
   ]
  },
  {
   "cell_type": "code",
   "execution_count": null,
   "metadata": {},
   "outputs": [],
   "source": [
    "temperature_convertion = 3.4859007e12 #kelvin * mu"
   ]
  },
  {
   "cell_type": "code",
   "execution_count": null,
   "metadata": {},
   "outputs": [],
   "source": [
    "snap_i = 2423 #2634\n",
    "snap_f = 2778 #2989\n",
    "snap_range = (snap_f - snap_i)\n",
    "\n",
    "p=mickey.mickey.Pluto(snap_i,stdout=False)\n",
    "\n",
    "#variables\n",
    "temperature_avg = log10(p.p/p.rho*temperature_convertion)\n",
    "tracer_avg = p.tr1\n",
    "\n",
    "for i in tqdm.tqdm(range(snap_i+1,snap_f)):\n",
    "    # reads data\n",
    "    p=mickey.mickey.Pluto(i,stdout=False)\n",
    "    \n",
    "    # sum of arrays to be averaged in log10\n",
    "    temperature_avg = np.add(temperature_avg, log10(p.p/p.rho*temperature_convertion))\n",
    "    tracer_avg = np.add(tracer_avg, p.tr1)\n",
    "\n",
    "temperature_avg /= snap_range\n",
    "tracer_avg /= snap_range"
   ]
  },
  {
   "cell_type": "code",
   "execution_count": null,
   "metadata": {},
   "outputs": [],
   "source": [
    "tracer_avg_copy = tracer_avg.copy()\n",
    "tracer_avg_copy[tracer_avg_copy < 0.9] = 0"
   ]
  },
  {
   "cell_type": "code",
   "execution_count": null,
   "metadata": {},
   "outputs": [],
   "source": [
    "# Check if it is everything ok with variable\n",
    "r_range = 100.\n",
    "\n",
    "figure(figsize=(8,6))\n",
    "\n",
    "#subplot(1,2,1)\n",
    "mappable2=pcolormesh(p.X, p.Y, tracer_avg.T, vmin=0, vmax=1., cmap='binary')\n",
    "mappable1=pcolormesh(p.X, p.Y, temperature_avg.T, vmin=7.5, vmax=12., cmap='hot_r')\n",
    "c1=colorbar(mappable1)\n",
    "c1.set_label(label=\"log10($T$/K)\", fontsize=16)\n",
    "plt.contour(p.X, p.Y, tracer_avg.T, cmap='binary')\n",
    "c2=colorbar(mappable2)\n",
    "c2.set_label(label=\"Tracer\", fontsize=16)\n",
    "#title(\"$<T>$\", fontsize=16)\n",
    "circle2=Circle((0,0),1,color='k')\n",
    "gca().add_artist(circle2)\n",
    "xlim(0,r_range)\n",
    "ylim(-r_range/2.,r_range/2.)\n",
    "tick_params(axis='both', which='major', labelsize=13)\n",
    "tick_params(axis='both', which='minor', labelsize=12)\n",
    "\n",
    "'''\n",
    "subplot(1,2,2)\n",
    "pcolormesh(p.X, p.Y, tracer_avg_copy.T, vmin=0., vmax=1., cmap='hot')\n",
    "title(\"<tracer>\")\n",
    "circle2=Circle((0,0),1,color='k')\n",
    "gca().add_artist(circle2)\n",
    "xlim(0,r_range)\n",
    "ylim(-r_range/2.,r_range/2.)\n",
    "colorbar()\n",
    "\n",
    "tick_params(axis='both', which='major', labelsize=13)\n",
    "tick_params(axis='both', which='minor', labelsize=12)\n",
    "'''\n",
    "tight_layout()\n",
    "\n",
    "\n",
    "plt.show()\n",
    "#plt.savefig('/home/artur/Desktop/Torus_pn_2D_cooling/Simulations/temperature-tracer-threshold.png', dpi=300)\n",
    "plt.clf()\n",
    "plt.cla()\n",
    "plt.close('all')"
   ]
  },
  {
   "cell_type": "code",
   "execution_count": null,
   "metadata": {},
   "outputs": [],
   "source": [
    "temperature_avg_copy = temperature_avg.copy()\n",
    "\n",
    "for i in range(len(temperature_avg)):\n",
    "    for j in range(len(temperature_avg)):\n",
    "        if tracer_avg[i,j] < 0.9 or p.x1[i] > radius_at_height2[directory] or temperature_avg[i,j] < 9.:\n",
    "            temperature_avg[i,j] = 0."
   ]
  },
  {
   "cell_type": "code",
   "execution_count": null,
   "metadata": {},
   "outputs": [],
   "source": [
    "# Recovering original values\n",
    "temperature_avg = temperature_avg_copy.copy()"
   ]
  },
  {
   "cell_type": "code",
   "execution_count": null,
   "metadata": {},
   "outputs": [],
   "source": [
    "temperature_avg = temperature_avg[temperature_avg > 9.]\n",
    "temperature_avg = 10**temperature_avg"
   ]
  },
  {
   "cell_type": "code",
   "execution_count": null,
   "metadata": {},
   "outputs": [],
   "source": [
    "print(\"%.2e %.2e %0.2e\" % (mean(temperature_avg), median(temperature_avg), std(temperature_avg)))\n",
    "print(\"%.2e %.2e %0.2e\" % (10**(mean(log10(temperature_avg))),\n",
    "                           10**(median(log10(temperature_avg))), \n",
    "                           10**(std(log10(temperature_avg)))))"
   ]
  },
  {
   "cell_type": "code",
   "execution_count": null,
   "metadata": {},
   "outputs": [],
   "source": [
    "mean_corona_temperature = [4.92e10, 5.06e10, 5.76e10, 6.59e10] #threshold < 9.; linear mean\n",
    "median_corona_temperature = [3.30e10, 3.39e10, 3.81e10, 4.48e10]\n",
    "std_corona_temperature = [4.47e10, 4.63e10, 5.53e10, 6.36e10]"
   ]
  },
  {
   "cell_type": "code",
   "execution_count": null,
   "metadata": {},
   "outputs": [],
   "source": [
    "figure(figsize=(8,8))\n",
    "\n",
    "plt.errorbar(x=mdot, y=median_corona_temperature, yerr=std_corona_temperature, xerr=mdot_err,\n",
    "             fmt='bo',\n",
    "             capsize=3)\n",
    "#title(\"<$T$/K>\", fontsize=16)\n",
    "xlabel(\"$\\dot{M}/\\dot{M}_{\\\\rm Edd}$\", fontsize=15)\n",
    "ylabel(\"$\\log10(T/\\mathrm{K})$\", fontsize=15)\n",
    "xscale(\"log\")\n",
    "yscale(\"log\")\n",
    "#ylim(10.5, 10.67)\n",
    "tick_params(axis='both', which='major', labelsize=13)\n",
    "tick_params(axis='both', which='minor', labelsize=12)\n",
    "\n",
    "tight_layout()\n",
    "\n",
    "plt.show()\n",
    "#plt.savefig('/home/artur/Desktop/Torus_pn_2D_cooling/Simulations/mean-T-corona.png', dpi=300)\n",
    "plt.clf()\n",
    "plt.close('all')"
   ]
  },
  {
   "cell_type": "code",
   "execution_count": null,
   "metadata": {},
   "outputs": [],
   "source": []
  }
 ],
 "metadata": {
  "kernelspec": {
   "display_name": "Python 3",
   "language": "python",
   "name": "python3"
  },
  "language_info": {
   "codemirror_mode": {
    "name": "ipython",
    "version": 3
   },
   "file_extension": ".py",
   "mimetype": "text/x-python",
   "name": "python",
   "nbconvert_exporter": "python",
   "pygments_lexer": "ipython3",
   "version": "3.6.7"
  }
 },
 "nbformat": 4,
 "nbformat_minor": 2
}
